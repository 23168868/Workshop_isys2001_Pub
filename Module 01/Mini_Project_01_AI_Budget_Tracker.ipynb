{
  "cells": [
    {
      "cell_type": "markdown",
      "metadata": {
        "id": "view-in-github",
        "colab_type": "text"
      },
      "source": [
        "<a href=\"https://colab.research.google.com/github/23168868/Workshop_isys2001_Pub/blob/main/Module%2001/Mini_Project_01_AI_Budget_Tracker.ipynb\" target=\"_parent\"><img src=\"https://colab.research.google.com/assets/colab-badge.svg\" alt=\"Open In Colab\"/></a>"
      ]
    },
    {
      "cell_type": "markdown",
      "id": "45b851c9",
      "metadata": {
        "id": "45b851c9"
      },
      "source": [
        "# Mini Project 01: AI-Powered Budget Tracker\n",
        "# ISYS2001 Introduction to Business Programming\n",
        "\n",
        "**Instructions:**\n",
        "1. Save a copy of this notebook to your Google Drive (File > Save a copy in Drive)  \n",
        "2. Rename it to include your name: `Week1_Budget_Tracker_[YourName]`  \n",
        "3. Complete all sections and code cells  \n",
        "4. Document your AI interactions as you go\n"
      ]
    },
    {
      "cell_type": "markdown",
      "id": "a60fc4c8",
      "metadata": {
        "id": "a60fc4c8"
      },
      "source": [
        "## Part 1: Environment Setup and First Steps"
      ]
    },
    {
      "cell_type": "code",
      "execution_count": null,
      "id": "2e576bd1",
      "metadata": {
        "id": "2e576bd1",
        "colab": {
          "base_uri": "https://localhost:8080/"
        },
        "outputId": "59893517-4974-49b8-98e8-4a27d2e25e2c"
      },
      "outputs": [
        {
          "output_type": "stream",
          "name": "stdout",
          "text": [
            "🎉 Welcome to ISYS2001: Introduction to Business Programming!\n",
            "📊 Project: Personal Finance Assistant\n",
            "🤖 Today's Goal: Build a Simple Budget Tracker with AI Help\n",
            "\n",
            "📅 Worksheet started at: 2025-07-29 16:03:10\n"
          ]
        }
      ],
      "source": [
        "# Run this cell to test your environment\n",
        "print(\"🎉 Welcome to ISYS2001: Introduction to Business Programming!\")\n",
        "print(\"📊 Project: Personal Finance Assistant\")\n",
        "print(\"🤖 Today's Goal: Build a Simple Budget Tracker with AI Help\")\n",
        "\n",
        "# Import datetime to timestamp your work\n",
        "from datetime import datetime\n",
        "print(f\"\\n📅 Worksheet started at: {datetime.now().strftime('%Y-%m-%d %H:%M:%S')}\")"
      ]
    },
    {
      "cell_type": "markdown",
      "id": "7ac0ada2",
      "metadata": {
        "id": "7ac0ada2"
      },
      "source": [
        "## Part 2: Your First AI Prompt\n",
        "\n",
        "Use an AI assistant (Gemini in Colab, ChatGPT, or GitHub Copilot) to create a program that:\n",
        "- Asks the user for their name\n",
        "- Asks for their monthly income  \n",
        "- Prints a personalized welcome message\n",
        "\n",
        "### 📝 Document Your AI Prompt Below:"
      ]
    },
    {
      "cell_type": "code",
      "execution_count": null,
      "id": "62045e66",
      "metadata": {
        "id": "62045e66",
        "colab": {
          "base_uri": "https://localhost:8080/"
        },
        "outputId": "7d45ffb4-ff17-4c60-84db-ec51d35ab4ca"
      },
      "outputs": [
        {
          "output_type": "stream",
          "name": "stdout",
          "text": [
            "What is your name?Martin\n",
            "What is your monthly income?5400\n",
            "Welcome, Martin! It's great to have you here.\n",
            "With a monthly income of $5400, you're on your way to achieving your financial goals!\n"
          ]
        }
      ],
      "source": [
        "# TASK: Write your AI prompt as a comment below\n",
        "\n",
        "# My AI Prompt:\n",
        "#Create a program that: Asks the user for their name, asks their monthly income and prints personalized welcome message\n",
        "\n",
        "# Paste the AI-generated code below:\n",
        "\n",
        "# Ask the user for their name\n",
        "name = input(\"What is your name?\")\n",
        "\n",
        "# Ask the user for their monthly income\n",
        "income = input(\"What is your monthly income?\")\n",
        "\n",
        "# Print a personalized welcome message\n",
        "print(f\"Welcome, {name}! It's great to have you here.\")\n",
        "print(f\"With a monthly income of ${income}, you're on your way to achieving your financial goals!\")\n"
      ]
    },
    {
      "cell_type": "markdown",
      "id": "daaaec49",
      "metadata": {
        "id": "daaaec49"
      },
      "source": [
        "### 🔍 Evidence Package Entry #1"
      ]
    },
    {
      "cell_type": "code",
      "execution_count": null,
      "id": "667d3549",
      "metadata": {
        "id": "667d3549",
        "colab": {
          "base_uri": "https://localhost:8080/"
        },
        "outputId": "c0a58e1e-d99f-4a13-9748-b8b4eb91a130"
      },
      "outputs": [
        {
          "output_type": "stream",
          "name": "stdout",
          "text": [
            "📋 EVIDENCE PACKAGE #1\n",
            "timestamp: 2025-07-29 16:21:14\n",
            "context: I wanted to create a simple input/output program to practice AI prompting\n",
            "ai tool used: ChatGPT\n",
            "what worked: The AI understood my request and created a program which I had described.\n",
            "what didnt: ChatGPT successfully created the program that I had desired and had not produced any errors.\n",
            "what i learned: I learned that specific prompts like 'insert' can be used to place user data and link to future references in the code.\n"
          ]
        }
      ],
      "source": [
        "# Evidence Package Documentation\n",
        "evidence_1 = {\n",
        "    \"timestamp\": datetime.now().strftime('%Y-%m-%d %H:%M:%S'),\n",
        "    \"context\": \"I wanted to create a simple input/output program to practice AI prompting\",\n",
        "    \"ai tool used\": \"ChatGPT\",  # Update this\n",
        "    \"what worked\": \"The AI understood my request and created a program which I had described.\",\n",
        "    \"what didnt\": \"ChatGPT successfully created the program that I had desired and had not produced any errors.\",\n",
        "    \"what i learned\": \"I learned that specific prompts like 'insert' can be used to place user data and link to future references in the code.\"\n",
        "}\n",
        "\n",
        "# Display your evidence\n",
        "print(\"📋 EVIDENCE PACKAGE #1\")\n",
        "for key, value in evidence_1.items():\n",
        "    print(f\"{key}: {value}\")"
      ]
    },
    {
      "cell_type": "markdown",
      "id": "182c831f",
      "metadata": {
        "id": "182c831f"
      },
      "source": [
        "## Part 3: Building the Budget Tracker\n",
        "\n",
        "Use AI to help you write a program that:\n",
        "- Allows users to input their monthly income\n",
        "- Allows users to input up to 3 expenses  \n",
        "- Calculates remaining budget\n",
        "- Shows a warning if budget is negative\n",
        "\n",
        "### 💡 Pro Tip: Be specific about requirements!"
      ]
    },
    {
      "cell_type": "code",
      "execution_count": null,
      "id": "74e672e3",
      "metadata": {
        "id": "74e672e3",
        "colab": {
          "base_uri": "https://localhost:8080/"
        },
        "outputId": "e9060e14-dae5-47f7-ccbe-33e242a48d24"
      },
      "outputs": [
        {
          "output_type": "stream",
          "name": "stdout",
          "text": [
            "My Budget Tracker Prompt:\n",
            "Thanks! Now, a much more challenging request for you: \n",
            "I would like an upgraded program that allows users to input their monthly income, allows users to be able to input up to 3 expenses, \n",
            "calculates the remaining budget and shows a warning if the budget is negative.\n"
          ]
        }
      ],
      "source": [
        "# TASK: Write your detailed prompt for the budget tracker\n",
        "\n",
        "print(\"My Budget Tracker Prompt:\")\n",
        "\n",
        "print('Thanks! Now, a much more challenging request for you: \\nI would like an upgraded program that allows users to input their monthly income, allows users to be able to input up to 3 expenses, \\ncalculates the remaining budget and shows a warning if the budget is negative.')"
      ]
    },
    {
      "cell_type": "markdown",
      "id": "4bcfacf4",
      "metadata": {
        "id": "4bcfacf4"
      },
      "source": [
        "### Paste and Test Your AI-Generated Budget Tracker"
      ]
    },
    {
      "cell_type": "code",
      "execution_count": null,
      "id": "2501e778",
      "metadata": {
        "id": "2501e778",
        "colab": {
          "base_uri": "https://localhost:8080/"
        },
        "outputId": "dca45d95-e6bd-4c9f-ca21-dabc46187faf"
      },
      "outputs": [
        {
          "output_type": "stream",
          "name": "stdout",
          "text": [
            "What is your name? Martin\n",
            "Enter your monthly income: $5600\n",
            "\n",
            "You can enter up to 3 expenses.\n",
            "Enter expense #1 (or press Enter to skip): 5000\n",
            "Enter expense #2 (or press Enter to skip): 4\n",
            "Enter expense #3 (or press Enter to skip): \n",
            "\n",
            "--- Budget Summary for Martin ---\n",
            "Monthly Income: $5600.00\n",
            "Total Expenses: $5004.00\n",
            "Remaining Budget: $596.00\n",
            "✅ You're within your budget. Good job!\n"
          ]
        }
      ],
      "source": [
        "# AI-GENERATED BUDGET TRACKER CODE\n",
        "\n",
        "# Ask the user for their name\n",
        "name = input(\"What is your name? \")\n",
        "\n",
        "# Ask for monthly income and convert it to a float\n",
        "income = float(input(\"Enter your monthly income: $\"))\n",
        "\n",
        "# Initialize a list to hold expenses\n",
        "expenses = []\n",
        "\n",
        "# Ask for up to 3 expenses\n",
        "print(\"\\nYou can enter up to 3 expenses.\")\n",
        "for i in range(1, 4):\n",
        "    expense_input = input(f\"Enter expense #{i} (or press Enter to skip): \")\n",
        "    if expense_input == \"\":\n",
        "        break\n",
        "    try:\n",
        "        expense = float(expense_input)\n",
        "        expenses.append(expense)\n",
        "    except ValueError:\n",
        "        print(\"Invalid input. Please enter a number.\")\n",
        "        continue\n",
        "\n",
        "# Calculate total expenses and remaining budget\n",
        "total_expenses = sum(expenses)\n",
        "remaining_budget = income - total_expenses\n",
        "\n",
        "# Display summary\n",
        "print(f\"\\n--- Budget Summary for {name} ---\")\n",
        "print(f\"Monthly Income: ${income:.2f}\")\n",
        "print(f\"Total Expenses: ${total_expenses:.2f}\")\n",
        "print(f\"Remaining Budget: ${remaining_budget:.2f}\")\n",
        "\n",
        "# Show warning if budget is negative\n",
        "if remaining_budget < 0:\n",
        "    print(\"⚠️ Warning: You have exceeded your budget!\")\n",
        "else:\n",
        "    print(\"✅ You're within your budget. Good job!\")\n"
      ]
    },
    {
      "cell_type": "markdown",
      "id": "f541d525",
      "metadata": {
        "id": "f541d525"
      },
      "source": [
        "### 🐛 Debugging and Refinement"
      ]
    },
    {
      "cell_type": "code",
      "execution_count": null,
      "id": "3f624a27",
      "metadata": {
        "id": "3f624a27",
        "colab": {
          "base_uri": "https://localhost:8080/"
        },
        "outputId": "5b22511b-9033-404e-cf70-6a5f3212d1b7"
      },
      "outputs": [
        {
          "output_type": "stream",
          "name": "stdout",
          "text": [
            "🔧 DEBUGGING NOTES:\n",
            "- Issue 1: Would like to extend the amount expenses to an unlimited amount\n",
            "- Fix 1: Prompt sent to AI and AI provided new an refurbished version.\n"
          ]
        }
      ],
      "source": [
        "# Document any issues and fixes\n",
        "issues_found = [\n",
        "    \"Issue 1: No issues\",\n",
        "    \"Fix 1: No fixes needed\",\n",
        "    # Add more as needed\n",
        "]\n",
        "\n",
        "print(\"🔧 DEBUGGING NOTES:\")\n",
        "for item in issues_found:\n",
        "    print(f\"- {item}\")"
      ]
    },
    {
      "cell_type": "code",
      "execution_count": null,
      "id": "0772261d",
      "metadata": {
        "id": "0772261d"
      },
      "outputs": [],
      "source": [
        "# REFINED VERSION - Your Working Budget Tracker\n",
        "# Ask the user for their name\n",
        "\n"
      ]
    },
    {
      "cell_type": "markdown",
      "id": "ca842a66",
      "metadata": {
        "id": "ca842a66"
      },
      "source": [
        "## Part 4: Enhancement Challenge\n",
        "\n",
        "Choose ONE feature to add using AI assistance:\n",
        "- 🏷️ Expense categories (food, transport, entertainment)\n",
        "- 📊 Show percentage of income spent\n",
        "- ✅ Input validation (no negative numbers)\n",
        "- 📝 Detailed budget summary with advice"
      ]
    },
    {
      "cell_type": "code",
      "execution_count": null,
      "id": "fbd649d2",
      "metadata": {
        "id": "fbd649d2",
        "colab": {
          "base_uri": "https://localhost:8080/"
        },
        "outputId": "ecda0048-734a-4094-8144-2fe2cd31fe48"
      },
      "outputs": [
        {
          "output_type": "stream",
          "name": "stdout",
          "text": [
            "🚀 ENHANCEMENT: I chose to add: Unlimited amount of expenses.\n",
            "\n",
            "Could make the amount of expenses unlimited with a click function allowing users to accept their chosen amount.\n",
            "\n"
          ]
        }
      ],
      "source": [
        "# Document your enhancement\n",
        "enhancement_choice = \"I chose to add: Unlimited amount of expenses.\"\n",
        "enhancement_prompt = \"\"\"\n",
        "Could make the amount of expenses unlimited with a click function allowing users to accept their chosen amount.\n",
        "\"\"\"\n",
        "\n",
        "print(f\"🚀 ENHANCEMENT: {enhancement_choice}\")\n",
        "print(enhancement_prompt)\n"
      ]
    },
    {
      "cell_type": "code",
      "execution_count": null,
      "id": "b12879f3",
      "metadata": {
        "id": "b12879f3",
        "colab": {
          "base_uri": "https://localhost:8080/"
        },
        "outputId": "f13f66d1-cd28-4261-ac00-50cab3aac958"
      },
      "outputs": [
        {
          "output_type": "stream",
          "name": "stdout",
          "text": [
            "What is your name? Martin\n",
            "Enter your monthly income: $5000\n",
            "\n",
            "Start entering your expenses one by one.\n",
            "Type 'done' when you are finished.\n",
            "\n",
            "Enter expense #1 (or type 'done'): 40000\n",
            "Enter expense #2 (or type 'done'): done\n",
            "\n",
            "--- Budget Summary for Martin ---\n",
            "Monthly Income: $5000.00\n",
            "Total Expenses: $40000.00\n",
            "Remaining Budget: $-35000.00\n",
            "⚠️ Warning: You have exceeded your budget!\n"
          ]
        }
      ],
      "source": [
        "# ENHANCED BUDGET TRACKER\n",
        "name = input(\"What is your name? \")\n",
        "\n",
        "# Ask for monthly income and convert it to a float\n",
        "income = float(input(\"Enter your monthly income: $\"))\n",
        "\n",
        "# Initialize an empty list to store expenses\n",
        "expenses = []\n",
        "\n",
        "print(\"\\nStart entering your expenses one by one.\")\n",
        "print(\"Type 'done' when you are finished.\\n\")\n",
        "\n",
        "# Loop to collect unlimited expenses\n",
        "while True:\n",
        "    user_input = input(f\"Enter expense #{len(expenses) + 1} (or type 'done'): \")\n",
        "\n",
        "    if user_input.lower() == 'done':\n",
        "        break\n",
        "\n",
        "    try:\n",
        "        expense = float(user_input)\n",
        "        expenses.append(expense)\n",
        "    except ValueError:\n",
        "        print(\"❌ Please enter a valid number or 'done'.\")\n",
        "\n",
        "# Calculate total expenses and remaining budget\n",
        "total_expenses = sum(expenses)\n",
        "remaining_budget = income - total_expenses\n",
        "\n",
        "# Display the budget summary\n",
        "print(f\"\\n--- Budget Summary for {name} ---\")\n",
        "print(f\"Monthly Income: ${income:.2f}\")\n",
        "print(f\"Total Expenses: ${total_expenses:.2f}\")\n",
        "print(f\"Remaining Budget: ${remaining_budget:.2f}\")\n",
        "\n",
        "# Show a warning if over budget\n",
        "if remaining_budget < 0:\n",
        "    print(\"⚠️ Warning: You have exceeded your budget!\")\n",
        "else:\n",
        "    print(\"✅ You're within your budget. Well done!\")"
      ]
    },
    {
      "cell_type": "markdown",
      "id": "cfa2845b",
      "metadata": {
        "id": "cfa2845b"
      },
      "source": [
        "## Part 5: Reflection and Lab Exit Ticket Preparation"
      ]
    },
    {
      "cell_type": "code",
      "execution_count": null,
      "id": "220ff6b4",
      "metadata": {
        "id": "220ff6b4",
        "colab": {
          "base_uri": "https://localhost:8080/"
        },
        "outputId": "04deecc4-0139-4d4f-c904-0c124091f062"
      },
      "outputs": [
        {
          "output_type": "stream",
          "name": "stdout",
          "text": [
            "📋 EVIDENCE PACKAGE #2 (Final)\n",
            "timestamp: 2025-07-29 16:55:49\n",
            "context: Creating the full budget tracker with enhancements\n",
            "ai_tool_used: ChatGPT\n",
            "prompts_used: 3\n",
            "iterations_needed: 1\n",
            "final_reflection: AI is a great tool to create programs within python. \n",
            "It is also very beneficial for beginner coding programs.\n"
          ]
        }
      ],
      "source": [
        "# Final Evidence Package Summary\n",
        "evidence_2 = {\n",
        "    \"timestamp\": datetime.now().strftime('%Y-%m-%d %H:%M:%S'),\n",
        "    \"context\": \"Creating the full budget tracker with enhancements\",\n",
        "    \"ai_tool_used\": \"ChatGPT\",\n",
        "    \"prompts_used\": 3,  # Update this number\n",
        "    \"iterations_needed\": 1,  # How many times you refined\n",
        "    \"final_reflection\": \"AI is a great tool to create programs within python. \\nIt is also very beneficial for beginner coding programs.\"\n",
        "}\n",
        "\n",
        "print(\"📋 EVIDENCE PACKAGE #2 (Final)\")\n",
        "for key, value in evidence_2.items():\n",
        "    print(f\"{key}: {value}\")"
      ]
    },
    {
      "cell_type": "markdown",
      "id": "69d17be0",
      "metadata": {
        "id": "69d17be0"
      },
      "source": [
        "## 🎯 Submission Checklist\n",
        "\n",
        "Before submitting:\n",
        "- ✅ All code cells run without errors\n",
        "- ✅ You've documented at least 2 AI interactions  \n",
        "- ✅ Budget tracker accepts income and 3+ expenses\n",
        "- ✅ Completed both Evidence Packages\n",
        "- ✅ Attempted the enhancement challenge\n",
        "- ✅ Reflected on your AI collaboration experience"
      ]
    },
    {
      "cell_type": "code",
      "execution_count": 1,
      "id": "0d85c2f1",
      "metadata": {
        "id": "0d85c2f1",
        "colab": {
          "base_uri": "https://localhost:8080/",
          "height": 280
        },
        "outputId": "96d4d77d-75e3-4e66-e46a-b4d8d6dd657a"
      },
      "outputs": [
        {
          "output_type": "stream",
          "name": "stdout",
          "text": [
            "==================================================\n",
            "WEEK 1 WORKSHEET COMPLETION SUMMARY\n",
            "==================================================\n",
            "Student Name: Martin\n"
          ]
        },
        {
          "output_type": "error",
          "ename": "NameError",
          "evalue": "name 'datetime' is not defined",
          "traceback": [
            "\u001b[0;31m---------------------------------------------------------------------------\u001b[0m",
            "\u001b[0;31mNameError\u001b[0m                                 Traceback (most recent call last)",
            "\u001b[0;32m/tmp/ipython-input-1-3112424583.py\u001b[0m in \u001b[0;36m<cell line: 0>\u001b[0;34m()\u001b[0m\n\u001b[1;32m      4\u001b[0m \u001b[0mprint\u001b[0m\u001b[0;34m(\u001b[0m\u001b[0;34m\"=\"\u001b[0m\u001b[0;34m*\u001b[0m\u001b[0;36m50\u001b[0m\u001b[0;34m)\u001b[0m\u001b[0;34m\u001b[0m\u001b[0;34m\u001b[0m\u001b[0m\n\u001b[1;32m      5\u001b[0m \u001b[0mprint\u001b[0m\u001b[0;34m(\u001b[0m\u001b[0;34mf\"Student Name: Martin\"\u001b[0m\u001b[0;34m)\u001b[0m\u001b[0;34m\u001b[0m\u001b[0;34m\u001b[0m\u001b[0m\n\u001b[0;32m----> 6\u001b[0;31m \u001b[0mprint\u001b[0m\u001b[0;34m(\u001b[0m\u001b[0;34mf\"Completion Time: {datetime.now().strftime('%Y-%m-%d %H:%M:%S')}\"\u001b[0m\u001b[0;34m)\u001b[0m\u001b[0;34m\u001b[0m\u001b[0;34m\u001b[0m\u001b[0m\n\u001b[0m\u001b[1;32m      7\u001b[0m \u001b[0mprint\u001b[0m\u001b[0;34m(\u001b[0m\u001b[0;34m\"\\nCore Features Implemented:\"\u001b[0m\u001b[0;34m)\u001b[0m\u001b[0;34m\u001b[0m\u001b[0;34m\u001b[0m\u001b[0m\n\u001b[1;32m      8\u001b[0m \u001b[0mprint\u001b[0m\u001b[0;34m(\u001b[0m\u001b[0;34m\"✅ Basic income/expense input\"\u001b[0m\u001b[0;34m)\u001b[0m\u001b[0;34m\u001b[0m\u001b[0;34m\u001b[0m\u001b[0m\n",
            "\u001b[0;31mNameError\u001b[0m: name 'datetime' is not defined"
          ]
        }
      ],
      "source": [
        "# Generate submission summary\n",
        "print(\"=\"*50)\n",
        "print(\"WEEK 1 WORKSHEET COMPLETION SUMMARY\")\n",
        "print(\"=\"*50)\n",
        "print(f\"Student Name: Martin\")\n",
        "print(f\"Completion Time: {datetime.now().strftime('%Y-%m-%d %H:%M:%S')}\")\n",
        "print(\"\\nCore Features Implemented:\")\n",
        "print(\"✅ Basic income/expense input\")\n",
        "print(\"✅ Budget calculation\")\n",
        "print(\"✅ Warning for negative budget\")\n",
        "print(\"✅ Enhancement: Now unlimited amount of expenses can be input for budgeting program\")\n",
        "print(\"\\nAI Collaboration Stats:\")\n",
        "print(f\"- AI tools used: ChatGPT\")\n",
        "print(f\"- Number of prompts: 3\")\n",
        "print(f\"- Success rate: 100%\")\n",
        "print(\"\\n🎉 Ready for Lab Exit Ticket submission!\")"
      ]
    },
    {
      "cell_type": "markdown",
      "id": "63b51742",
      "metadata": {
        "id": "63b51742"
      },
      "source": [
        "## 💭 Final Reflection Questions\n",
        "\n",
        "**1. What surprised you most about working with AI to generate code?**  \n",
        "[Your answer here]\n",
        "\n",
        "**2. What makes a good prompt vs. a poor prompt?**  \n",
        "[Your answer here]\n",
        "\n",
        "**3. How do you see AI tools fitting into your future programming workflow?**  \n",
        "[Your answer here]\n",
        "\n",
        "---\n",
        "\n",
        "### 📁 Save and Next Steps:\n",
        "1. File > Save a copy in GitHub (if you haven't already)    \n",
        "2. Prepare evidence for next lab session for the Exit Ticket  \n",
        "3. Start thinking about Week 2: Variables & Data Types!\n"
      ]
    },
    {
      "cell_type": "code",
      "source": [],
      "metadata": {
        "id": "rdAf6Gc517wB"
      },
      "id": "rdAf6Gc517wB",
      "execution_count": null,
      "outputs": []
    }
  ],
  "metadata": {
    "colab": {
      "provenance": [],
      "include_colab_link": true
    },
    "language_info": {
      "name": "python"
    },
    "kernelspec": {
      "name": "python3",
      "display_name": "Python 3"
    }
  },
  "nbformat": 4,
  "nbformat_minor": 5
}