{
  "cells": [
    {
      "cell_type": "markdown",
      "metadata": {
        "id": "view-in-github",
        "colab_type": "text"
      },
      "source": [
        "<a href=\"https://colab.research.google.com/github/23168868/Workshop_isys2001_Pub/blob/main/Module%2001/Mini_Project_01_AI_Budget_Tracker.ipynb\" target=\"_parent\"><img src=\"https://colab.research.google.com/assets/colab-badge.svg\" alt=\"Open In Colab\"/></a>"
      ]
    },
    {
      "cell_type": "markdown",
      "id": "45b851c9",
      "metadata": {
        "id": "45b851c9"
      },
      "source": [
        "# Mini Project 01: AI-Powered Budget Tracker\n",
        "# ISYS2001 Introduction to Business Programming\n",
        "\n",
        "**Instructions:**\n",
        "1. Save a copy of this notebook to your Google Drive (File > Save a copy in Drive)  \n",
        "2. Rename it to include your name: `Week1_Budget_Tracker_[YourName]`  \n",
        "3. Complete all sections and code cells  \n",
        "4. Document your AI interactions as you go\n"
      ]
    },
    {
      "cell_type": "markdown",
      "id": "a60fc4c8",
      "metadata": {
        "id": "a60fc4c8"
      },
      "source": [
        "## Part 1: Environment Setup and First Steps"
      ]
    },
    {
      "cell_type": "code",
      "execution_count": 1,
      "id": "2e576bd1",
      "metadata": {
        "id": "2e576bd1",
        "colab": {
          "base_uri": "https://localhost:8080/"
        },
        "outputId": "59893517-4974-49b8-98e8-4a27d2e25e2c"
      },
      "outputs": [
        {
          "output_type": "stream",
          "name": "stdout",
          "text": [
            "🎉 Welcome to ISYS2001: Introduction to Business Programming!\n",
            "📊 Project: Personal Finance Assistant\n",
            "🤖 Today's Goal: Build a Simple Budget Tracker with AI Help\n",
            "\n",
            "📅 Worksheet started at: 2025-07-29 16:03:10\n"
          ]
        }
      ],
      "source": [
        "# Run this cell to test your environment\n",
        "print(\"🎉 Welcome to ISYS2001: Introduction to Business Programming!\")\n",
        "print(\"📊 Project: Personal Finance Assistant\")\n",
        "print(\"🤖 Today's Goal: Build a Simple Budget Tracker with AI Help\")\n",
        "\n",
        "# Import datetime to timestamp your work\n",
        "from datetime import datetime\n",
        "print(f\"\\n📅 Worksheet started at: {datetime.now().strftime('%Y-%m-%d %H:%M:%S')}\")"
      ]
    },
    {
      "cell_type": "markdown",
      "id": "7ac0ada2",
      "metadata": {
        "id": "7ac0ada2"
      },
      "source": [
        "## Part 2: Your First AI Prompt\n",
        "\n",
        "Use an AI assistant (Gemini in Colab, ChatGPT, or GitHub Copilot) to create a program that:\n",
        "- Asks the user for their name\n",
        "- Asks for their monthly income  \n",
        "- Prints a personalized welcome message\n",
        "\n",
        "### 📝 Document Your AI Prompt Below:"
      ]
    },
    {
      "cell_type": "code",
      "execution_count": 18,
      "id": "62045e66",
      "metadata": {
        "id": "62045e66",
        "colab": {
          "base_uri": "https://localhost:8080/"
        },
        "outputId": "7d45ffb4-ff17-4c60-84db-ec51d35ab4ca"
      },
      "outputs": [
        {
          "output_type": "stream",
          "name": "stdout",
          "text": [
            "What is your name?Martin\n",
            "What is your monthly income?5400\n",
            "Welcome, Martin! It's great to have you here.\n",
            "With a monthly income of $5400, you're on your way to achieving your financial goals!\n"
          ]
        }
      ],
      "source": [
        "# TASK: Write your AI prompt as a comment below\n",
        "\n",
        "# My AI Prompt:\n",
        "#Create a program that: Asks the user for their name, asks their monthly income and prints personalized welcome message\n",
        "\n",
        "# Paste the AI-generated code below:\n",
        "\n",
        "# Ask the user for their name\n",
        "name = input(\"What is your name?\")\n",
        "\n",
        "# Ask the user for their monthly income\n",
        "income = input(\"What is your monthly income?\")\n",
        "\n",
        "# Print a personalized welcome message\n",
        "print(f\"Welcome, {name}! It's great to have you here.\")\n",
        "print(f\"With a monthly income of ${income}, you're on your way to achieving your financial goals!\")\n"
      ]
    },
    {
      "cell_type": "markdown",
      "id": "daaaec49",
      "metadata": {
        "id": "daaaec49"
      },
      "source": [
        "### 🔍 Evidence Package Entry #1"
      ]
    },
    {
      "cell_type": "code",
      "execution_count": 22,
      "id": "667d3549",
      "metadata": {
        "id": "667d3549",
        "colab": {
          "base_uri": "https://localhost:8080/"
        },
        "outputId": "c0a58e1e-d99f-4a13-9748-b8b4eb91a130"
      },
      "outputs": [
        {
          "output_type": "stream",
          "name": "stdout",
          "text": [
            "📋 EVIDENCE PACKAGE #1\n",
            "timestamp: 2025-07-29 16:21:14\n",
            "context: I wanted to create a simple input/output program to practice AI prompting\n",
            "ai tool used: ChatGPT\n",
            "what worked: The AI understood my request and created a program which I had described.\n",
            "what didnt: ChatGPT successfully created the program that I had desired and had not produced any errors.\n",
            "what i learned: I learned that specific prompts like 'insert' can be used to place user data and link to future references in the code.\n"
          ]
        }
      ],
      "source": [
        "# Evidence Package Documentation\n",
        "evidence_1 = {\n",
        "    \"timestamp\": datetime.now().strftime('%Y-%m-%d %H:%M:%S'),\n",
        "    \"context\": \"I wanted to create a simple input/output program to practice AI prompting\",\n",
        "    \"ai tool used\": \"ChatGPT\",  # Update this\n",
        "    \"what worked\": \"The AI understood my request and created a program which I had described.\",\n",
        "    \"what didnt\": \"ChatGPT successfully created the program that I had desired and had not produced any errors.\",\n",
        "    \"what i learned\": \"I learned that specific prompts like 'insert' can be used to place user data and link to future references in the code.\"\n",
        "}\n",
        "\n",
        "# Display your evidence\n",
        "print(\"📋 EVIDENCE PACKAGE #1\")\n",
        "for key, value in evidence_1.items():\n",
        "    print(f\"{key}: {value}\")"
      ]
    },
    {
      "cell_type": "markdown",
      "id": "182c831f",
      "metadata": {
        "id": "182c831f"
      },
      "source": [
        "## Part 3: Building the Budget Tracker\n",
        "\n",
        "Use AI to help you write a program that:\n",
        "- Allows users to input their monthly income\n",
        "- Allows users to input up to 3 expenses  \n",
        "- Calculates remaining budget\n",
        "- Shows a warning if budget is negative\n",
        "\n",
        "### 💡 Pro Tip: Be specific about requirements!"
      ]
    },
    {
      "cell_type": "code",
      "execution_count": 29,
      "id": "74e672e3",
      "metadata": {
        "id": "74e672e3",
        "colab": {
          "base_uri": "https://localhost:8080/"
        },
        "outputId": "e9060e14-dae5-47f7-ccbe-33e242a48d24"
      },
      "outputs": [
        {
          "output_type": "stream",
          "name": "stdout",
          "text": [
            "My Budget Tracker Prompt:\n",
            "Thanks! Now, a much more challenging request for you: \n",
            "I would like an upgraded program that allows users to input their monthly income, allows users to be able to input up to 3 expenses, \n",
            "calculates the remaining budget and shows a warning if the budget is negative.\n"
          ]
        }
      ],
      "source": [
        "# TASK: Write your detailed prompt for the budget tracker\n",
        "\n",
        "print(\"My Budget Tracker Prompt:\")\n",
        "\n",
        "print('Thanks! Now, a much more challenging request for you: \\nI would like an upgraded program that allows users to input their monthly income, allows users to be able to input up to 3 expenses, \\ncalculates the remaining budget and shows a warning if the budget is negative.')"
      ]
    },
    {
      "cell_type": "markdown",
      "id": "4bcfacf4",
      "metadata": {
        "id": "4bcfacf4"
      },
      "source": [
        "### Paste and Test Your AI-Generated Budget Tracker"
      ]
    },
    {
      "cell_type": "code",
      "execution_count": 30,
      "id": "2501e778",
      "metadata": {
        "id": "2501e778",
        "colab": {
          "base_uri": "https://localhost:8080/"
        },
        "outputId": "151e49e6-3b0d-4f39-d572-b67400786088"
      },
      "outputs": [
        {
          "output_type": "stream",
          "name": "stdout",
          "text": [
            "What is your name? Martin\n",
            "Enter your monthly income: $5600\n",
            "\n",
            "You can enter up to 3 expenses.\n",
            "Enter expense #1 (or press Enter to skip): 600\n",
            "Enter expense #2 (or press Enter to skip): 4000\n",
            "Enter expense #3 (or press Enter to skip): 1200\n",
            "\n",
            "--- Budget Summary for Martin ---\n",
            "Monthly Income: $5600.00\n",
            "Total Expenses: $5800.00\n",
            "Remaining Budget: $-200.00\n",
            "⚠️ Warning: You have exceeded your budget!\n"
          ]
        }
      ],
      "source": [
        "# AI-GENERATED BUDGET TRACKER CODE\n",
        "\n",
        "# Ask the user for their name\n",
        "name = input(\"What is your name? \")\n",
        "\n",
        "# Ask for monthly income and convert it to a float\n",
        "income = float(input(\"Enter your monthly income: $\"))\n",
        "\n",
        "# Initialize a list to hold expenses\n",
        "expenses = []\n",
        "\n",
        "# Ask for up to 3 expenses\n",
        "print(\"\\nYou can enter up to 3 expenses.\")\n",
        "for i in range(1, 4):\n",
        "    expense_input = input(f\"Enter expense #{i} (or press Enter to skip): \")\n",
        "    if expense_input == \"\":\n",
        "        break\n",
        "    try:\n",
        "        expense = float(expense_input)\n",
        "        expenses.append(expense)\n",
        "    except ValueError:\n",
        "        print(\"Invalid input. Please enter a number.\")\n",
        "        continue\n",
        "\n",
        "# Calculate total expenses and remaining budget\n",
        "total_expenses = sum(expenses)\n",
        "remaining_budget = income - total_expenses\n",
        "\n",
        "# Display summary\n",
        "print(f\"\\n--- Budget Summary for {name} ---\")\n",
        "print(f\"Monthly Income: ${income:.2f}\")\n",
        "print(f\"Total Expenses: ${total_expenses:.2f}\")\n",
        "print(f\"Remaining Budget: ${remaining_budget:.2f}\")\n",
        "\n",
        "# Show warning if budget is negative\n",
        "if remaining_budget < 0:\n",
        "    print(\"⚠️ Warning: You have exceeded your budget!\")\n",
        "else:\n",
        "    print(\"✅ You're within your budget. Good job!\")\n"
      ]
    },
    {
      "cell_type": "markdown",
      "id": "f541d525",
      "metadata": {
        "id": "f541d525"
      },
      "source": [
        "### 🐛 Debugging and Refinement"
      ]
    },
    {
      "cell_type": "code",
      "execution_count": 6,
      "id": "3f624a27",
      "metadata": {
        "id": "3f624a27",
        "colab": {
          "base_uri": "https://localhost:8080/"
        },
        "outputId": "1038e241-f920-4e0d-c92e-56577e0b9a73"
      },
      "outputs": [
        {
          "output_type": "stream",
          "name": "stdout",
          "text": [
            "🔧 DEBUGGING NOTES:\n",
            "- Issue 1: [Describe the problem]\n",
            "- Fix 1: [How you solved it]\n"
          ]
        }
      ],
      "source": [
        "# Document any issues and fixes\n",
        "issues_found = [\n",
        "    \"Issue 1: [Describe the problem]\",\n",
        "    \"Fix 1: [How you solved it]\",\n",
        "    # Add more as needed\n",
        "]\n",
        "\n",
        "print(\"🔧 DEBUGGING NOTES:\")\n",
        "for item in issues_found:\n",
        "    print(f\"- {item}\")"
      ]
    },
    {
      "cell_type": "code",
      "execution_count": 7,
      "id": "0772261d",
      "metadata": {
        "id": "0772261d"
      },
      "outputs": [],
      "source": [
        "# REFINED VERSION - Your Working Budget Tracker\n",
        "# [Paste your corrected/improved code here]"
      ]
    },
    {
      "cell_type": "markdown",
      "id": "ca842a66",
      "metadata": {
        "id": "ca842a66"
      },
      "source": [
        "## Part 4: Enhancement Challenge\n",
        "\n",
        "Choose ONE feature to add using AI assistance:\n",
        "- 🏷️ Expense categories (food, transport, entertainment)\n",
        "- 📊 Show percentage of income spent\n",
        "- ✅ Input validation (no negative numbers)\n",
        "- 📝 Detailed budget summary with advice"
      ]
    },
    {
      "cell_type": "code",
      "execution_count": 8,
      "id": "fbd649d2",
      "metadata": {
        "id": "fbd649d2",
        "colab": {
          "base_uri": "https://localhost:8080/"
        },
        "outputId": "9f341e94-38aa-4068-8f2d-6ff99c62effb"
      },
      "outputs": [
        {
          "output_type": "stream",
          "name": "stdout",
          "text": [
            "🚀 ENHANCEMENT: I chose to add: [your choice]\n"
          ]
        }
      ],
      "source": [
        "# Document your enhancement\n",
        "enhancement_choice = \"I chose to add: [your choice]\"\n",
        "enhancement_prompt = \"\"\"\n",
        "[Write the prompt you used to add this feature]\n",
        "\"\"\"\n",
        "\n",
        "print(f\"🚀 ENHANCEMENT: {enhancement_choice}\")"
      ]
    },
    {
      "cell_type": "code",
      "execution_count": 9,
      "id": "b12879f3",
      "metadata": {
        "id": "b12879f3"
      },
      "outputs": [],
      "source": [
        "# ENHANCED BUDGET TRACKER\n",
        "# [Paste your enhanced code here]"
      ]
    },
    {
      "cell_type": "markdown",
      "id": "cfa2845b",
      "metadata": {
        "id": "cfa2845b"
      },
      "source": [
        "## Part 5: Reflection and Lab Exit Ticket Preparation"
      ]
    },
    {
      "cell_type": "code",
      "execution_count": 10,
      "id": "220ff6b4",
      "metadata": {
        "id": "220ff6b4",
        "colab": {
          "base_uri": "https://localhost:8080/"
        },
        "outputId": "5f13c870-e8f3-443a-cd5b-edcfb2816b6d"
      },
      "outputs": [
        {
          "output_type": "stream",
          "name": "stdout",
          "text": [
            "📋 EVIDENCE PACKAGE #2 (Final)\n",
            "timestamp: 2025-07-29 16:03:10\n",
            "context: Creating the full budget tracker with enhancements\n",
            "ai_tool_used: [Your AI tool]\n",
            "prompts_used: 3\n",
            "iterations_needed: 2\n",
            "final_reflection: [What you learned about AI-assisted programming]\n"
          ]
        }
      ],
      "source": [
        "# Final Evidence Package Summary\n",
        "evidence_2 = {\n",
        "    \"timestamp\": datetime.now().strftime('%Y-%m-%d %H:%M:%S'),\n",
        "    \"context\": \"Creating the full budget tracker with enhancements\",\n",
        "    \"ai_tool_used\": \"[Your AI tool]\",\n",
        "    \"prompts_used\": 3,  # Update this number\n",
        "    \"iterations_needed\": 2,  # How many times you refined\n",
        "    \"final_reflection\": \"[What you learned about AI-assisted programming]\"\n",
        "}\n",
        "\n",
        "print(\"📋 EVIDENCE PACKAGE #2 (Final)\")\n",
        "for key, value in evidence_2.items():\n",
        "    print(f\"{key}: {value}\")"
      ]
    },
    {
      "cell_type": "markdown",
      "id": "69d17be0",
      "metadata": {
        "id": "69d17be0"
      },
      "source": [
        "## 🎯 Submission Checklist\n",
        "\n",
        "Before submitting:\n",
        "- ✅ All code cells run without errors\n",
        "- ✅ You've documented at least 2 AI interactions  \n",
        "- ✅ Budget tracker accepts income and 3+ expenses\n",
        "- ✅ Completed both Evidence Packages\n",
        "- ✅ Attempted the enhancement challenge\n",
        "- ✅ Reflected on your AI collaboration experience"
      ]
    },
    {
      "cell_type": "code",
      "execution_count": 11,
      "id": "0d85c2f1",
      "metadata": {
        "id": "0d85c2f1",
        "colab": {
          "base_uri": "https://localhost:8080/"
        },
        "outputId": "d572930a-e09d-4ea6-d920-4d2a46e80bfc"
      },
      "outputs": [
        {
          "output_type": "stream",
          "name": "stdout",
          "text": [
            "==================================================\n",
            "WEEK 1 WORKSHEET COMPLETION SUMMARY\n",
            "==================================================\n",
            "Student Name: [Your Name]\n",
            "Completion Time: 2025-07-29 16:03:10\n",
            "\n",
            "Core Features Implemented:\n",
            "✅ Basic income/expense input\n",
            "✅ Budget calculation\n",
            "✅ Warning for negative budget\n",
            "✅ Enhancement: [Your enhancement]\n",
            "\n",
            "AI Collaboration Stats:\n",
            "- AI tools used: [List them]\n",
            "- Number of prompts: [Count]\n",
            "- Success rate: [Estimate]%\n",
            "\n",
            "🎉 Ready for Lab Exit Ticket submission!\n"
          ]
        }
      ],
      "source": [
        "# Generate submission summary\n",
        "print(\"=\"*50)\n",
        "print(\"WEEK 1 WORKSHEET COMPLETION SUMMARY\")\n",
        "print(\"=\"*50)\n",
        "print(f\"Student Name: [Your Name]\")\n",
        "print(f\"Completion Time: {datetime.now().strftime('%Y-%m-%d %H:%M:%S')}\")\n",
        "print(\"\\nCore Features Implemented:\")\n",
        "print(\"✅ Basic income/expense input\")\n",
        "print(\"✅ Budget calculation\")\n",
        "print(\"✅ Warning for negative budget\")\n",
        "print(\"✅ Enhancement: [Your enhancement]\")\n",
        "print(\"\\nAI Collaboration Stats:\")\n",
        "print(f\"- AI tools used: [List them]\")\n",
        "print(f\"- Number of prompts: [Count]\")\n",
        "print(f\"- Success rate: [Estimate]%\")\n",
        "print(\"\\n🎉 Ready for Lab Exit Ticket submission!\")"
      ]
    },
    {
      "cell_type": "markdown",
      "id": "63b51742",
      "metadata": {
        "id": "63b51742"
      },
      "source": [
        "## 💭 Final Reflection Questions\n",
        "\n",
        "**1. What surprised you most about working with AI to generate code?**  \n",
        "[Your answer here]\n",
        "\n",
        "**2. What makes a good prompt vs. a poor prompt?**  \n",
        "[Your answer here]\n",
        "\n",
        "**3. How do you see AI tools fitting into your future programming workflow?**  \n",
        "[Your answer here]\n",
        "\n",
        "---\n",
        "\n",
        "### 📁 Save and Next Steps:\n",
        "1. File > Save a copy in GitHub (if you haven't already)    \n",
        "2. Prepare evidence for next lab session for the Exit Ticket  \n",
        "3. Start thinking about Week 2: Variables & Data Types!\n"
      ]
    },
    {
      "cell_type": "code",
      "source": [],
      "metadata": {
        "id": "rdAf6Gc517wB"
      },
      "id": "rdAf6Gc517wB",
      "execution_count": 11,
      "outputs": []
    }
  ],
  "metadata": {
    "colab": {
      "provenance": [],
      "include_colab_link": true
    },
    "language_info": {
      "name": "python"
    },
    "kernelspec": {
      "name": "python3",
      "display_name": "Python 3"
    }
  },
  "nbformat": 4,
  "nbformat_minor": 5
}