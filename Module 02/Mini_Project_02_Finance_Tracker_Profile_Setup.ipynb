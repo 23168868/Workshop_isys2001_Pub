{
  "cells": [
    {
      "cell_type": "markdown",
      "metadata": {
        "id": "view-in-github",
        "colab_type": "text"
      },
      "source": [
        "<a href=\"https://colab.research.google.com/github/23168868/Workshop_isys2001_Pub/blob/main/Module%2002/Mini_Project_02_Finance_Tracker_Profile_Setup.ipynb\" target=\"_parent\"><img src=\"https://colab.research.google.com/assets/colab-badge.svg\" alt=\"Open In Colab\"/></a>"
      ]
    },
    {
      "cell_type": "raw",
      "metadata": {
        "id": "Ps88qkRGcPuY"
      },
      "source": [
        "---\n",
        "\n",
        "## Project Overview and Instructions\n",
        "\n",
        "In this project, you'll create a program that:\n",
        "1. **Collects User Profile Information:**\n",
        "   Ask for the user's name, preferred app theme color, primary currency, and a main savings goal.\n",
        "2. **Displays a Personalised Welcome Message:**\n",
        "   Outputs a clear summary message using the collected data to confirm the profile setup.\n",
        "3. **Follows Industry Best Practices:**\n",
        "   Emphasises meaningful variable names, proper documentation, and good version control.\n",
        "\n",
        "**Project Steps:**\n",
        "1. **State the Problem**\n",
        "2. **Describe Input and Output**\n",
        "3. **Work the Problem by Hand**\n",
        "4. **Develop an Algorithm (Pseudocode)**\n",
        "5. **Write the Code**\n",
        "6. **Reflect on Best Practices & Use AI to Verify**\n",
        "\n",
        "> **Note:** Use this project as an opportunity to both practise coding and refine your professional development skills.\n",
        "\n",
        "---"
      ]
    },
    {
      "cell_type": "markdown",
      "metadata": {
        "id": "Ij1d52FYcPuN"
      },
      "source": [
        "# Mini Project 02: Finance Tracker Profile Setup\n",
        "\n",
        "In this project, you will build the first component of our semester-long Personal Finance Tracker: the user profile setup. This project collates many of the exercises from this week’s activities. This is intentional—by combining these exercises, you can reflect on your progress and see how well you’re following the industry best practices we espouse. These practices include:\n",
        "\n",
        "- **Meaningful Notebook Naming:** Give your notebook a clear, descriptive name (e.g., `finance_tracker_profile_setup.ipynb`).\n",
        "- **Frequent Saves & Version Control:** Save your work often and use descriptive commit messages when uploading to GitHub.\n",
        "- **Descriptive Variable Names:** Use names like `user_name`, `theme_color`, etc., to clearly convey their purpose.\n",
        "- **Code Comments & Documentation:** Use text cells and inline comments to document your thought process.\n",
        "- **Critical Use of AI:** Ask follow-up questions if anything is unclear, and verify that AI suggestions align with the basics you’ve learnt (i.e., using input(), print(), basic data types, and variables).\n",
        "\n",
        "> **Tip:** Review these best practices periodically during the project to reinforce good coding habits.\n",
        "\n",
        "Let's get started!"
      ]
    },
    {
      "cell_type": "raw",
      "metadata": {
        "id": "zqObLbfQcPuY"
      },
      "source": [
        "---\n",
        "\n",
        "## Step 2 – Describe Input and Output\n",
        "\n",
        "**Inputs:**\n",
        "- `user_name` (string)\n",
        "- `theme_color` (string)\n",
        "- `primary_currency` (string)\n",
        "- `main_savings_goal` (string)\n",
        "\n",
        "**Expected Output:**\n",
        "A message like:\n",
        "> \"Welcome to your Personal Finance Tracker, [user_name]! Your profile is ready. The app will use a [theme_color] theme and all amounts will be in [primary_currency]. Let's start working towards your goal of saving for a [main_savings_goal]!\"\n",
        "\n",
        "> **Tip:** Mapping your inputs to the expected output helps you visualise the overall flow of your program.\n",
        "\n",
        "> **AI Usage Tip:**\n",
        "> Ask, \"What are some creative ways to format this welcome message for a finance app using only the basics?\" and verify that the suggestions adhere to input(), print(), and basic variables."
      ]
    },
    {
      "cell_type": "code",
      "source": [
        "def create_user_profile():\n",
        "    print(\"📊 Welcome to your Personal Finance Tracker Setup!\\n\")\n",
        "\n",
        "    # Collect user data\n",
        "    name = input(\"👤 Enter your name: \").strip().title()\n",
        "    theme_color = input(\"🎨 Enter your preferred theme color: \").strip().lower()\n",
        "    currency = input(\"💱 Enter your primary currency (e.g., AUD, USD, EUR): \").strip().upper()\n",
        "    savings_goal = input(\"💰 What is your main savings goal? \").strip().capitalize()\n",
        "\n",
        "    # Store profile in a dictionary\n",
        "    user_profile = {\n",
        "        \"Name\": name,\n",
        "        \"Theme Color\": theme_color,\n",
        "        \"Currency\": currency,\n",
        "        \"Main Savings Goal\": savings_goal\n",
        "    }\n",
        "\n",
        "    # Display personalized welcome message\n",
        "    print(\"\\n✅ Profile created successfully!\\n\")\n",
        "    print(f\"Hi {user_profile['Name']}, welcome to your finance tracker!\")\n",
        "    print(f\"Your profile is ready. The app will use a {user_profile['Theme Color']} theme and all amounts will be in {user_profile['Currency']}.\")\n",
        "    print(f\"Let's start working towards your {user_profile['Main Savings Goal']}!\")\n",
        "\n",
        "# Run the program\n",
        "create_user_profile()\n"
      ],
      "metadata": {
        "colab": {
          "base_uri": "https://localhost:8080/"
        },
        "collapsed": true,
        "id": "2Zocpm0EKsuX",
        "outputId": "2511bdc7-17b3-4605-b491-dd4a0d6cdd1a"
      },
      "execution_count": 4,
      "outputs": [
        {
          "output_type": "stream",
          "name": "stdout",
          "text": [
            "📊 Welcome to your Personal Finance Tracker Setup!\n",
            "\n",
            "👤 Enter your name: Martin\n",
            "🎨 Enter your preferred theme color: Blue\n",
            "💱 Enter your primary currency (e.g., AUD, USD, EUR): AUD\n",
            "💰 What is your main savings goal? New Car\n",
            "\n",
            "✅ Profile created successfully!\n",
            "\n",
            "Hi Martin, welcome to your finance tracker!\n",
            "Your profile is ready. The app will use a blue theme and all amounts will be in AUD.\n",
            "Let's start working towards your New car!\n"
          ]
        }
      ]
    },
    {
      "cell_type": "markdown",
      "metadata": {
        "id": "gz-zBa3NcPuY"
      },
      "source": [
        "## Step 1 – State the Problem\n",
        "\n",
        "Define the goal of your program in your own words. For example:\n",
        "\n",
        "- **Goal:** Build a program that creates a user profile for a finance tracker by collecting some initial settings and displays a personalized welcome message.\n",
        "- **Data to Gather:** User's name, preferred theme color, primary currency, and main savings goal.\n",
        "\n",
        "> **AI Usage Tip:**\n",
        "> If you're unsure whether your problem statement is clear, ask an AI tool:  \n",
        "> \"Can you restate my description of a Finance Tracker Profile Setup program using only input(), print(), and variables?\"  \n",
        "> Review the response to ensure it aligns with your current learning."
      ]
    },
    {
      "cell_type": "code",
      "source": [
        "def create_user_profile():\n",
        "    print(\"📊 Welcome to your Personal Finance Tracker Setup!\")\n",
        "\n",
        "    # Collect user data\n",
        "    name = input(\"👤 Enter your name: \")\n",
        "    theme_color = input(\"🎨 Enter your preferred theme color: \")\n",
        "    currency = input(\"💱 Enter your primary currency (e.g., AUD, USD, EUR): \")\n",
        "    savings_goal = input(\"💰 What is your main savings goal? \")\n",
        "\n",
        "    # Store profile in a dictionary\n",
        "    user_profile = {\n",
        "        \"Name\": name,\n",
        "        \"Theme Color\": theme_color,\n",
        "        \"Currency\": currency,\n",
        "        \"Main Savings Goal\": savings_goal\n",
        "    }\n",
        "\n",
        "    # Display welcome message and user profile\n",
        "    print(\"\\n✅ Profile created successfully!\\n\")\n",
        "    print(f\"👋 Welcome, {user_profile['Name']}!\")\n",
        "    print(f\"Your selected theme color is: {user_profile['Theme Color']}\")\n",
        "    print(f\"Primary currency set to: {user_profile['Currency']}\")\n",
        "    print(f\"Main savings goal: {user_profile['Main Savings Goal']}\")\n",
        "    print(\"\\n🎉 You're all set to start tracking your finances!\")\n",
        "\n",
        "# Run the program\n",
        "create_user_profile()\n"
      ],
      "metadata": {
        "colab": {
          "base_uri": "https://localhost:8080/"
        },
        "collapsed": true,
        "id": "2rdlfyiGIwYn",
        "outputId": "3e847f3a-0542-4a93-c6b6-fd4b1a666ae7"
      },
      "execution_count": 2,
      "outputs": [
        {
          "output_type": "stream",
          "name": "stdout",
          "text": [
            "📊 Welcome to your Personal Finance Tracker Setup!\n",
            "👤 Enter your name: Martin\n",
            "🎨 Enter your preferred theme color: Blue\n",
            "💱 Enter your primary currency (e.g., AUD, USD, EUR): AUD\n",
            "💰 What is your main savings goal? New Car\n",
            "\n",
            "✅ Profile created successfully!\n",
            "\n",
            "👋 Welcome, Martin!\n",
            "Your selected theme color is: Blue\n",
            "Primary currency set to: AUD\n",
            "Main savings goal: New Car\n",
            "\n",
            "🎉 You're all set to start tracking your finances!\n"
          ]
        }
      ]
    },
    {
      "cell_type": "markdown",
      "metadata": {
        "id": "BMOazFMmcPuZ"
      },
      "source": [
        "## Step 3 – Work the Problem by Hand\n",
        "\n",
        "Simulate the process with sample inputs. For example, if:\n",
        "- `user_name` = \"Alex\"\n",
        "- `theme_color` = \"dark\"\n",
        "- `primary_currency` = \"AUD\"\n",
        "- `main_savings_goal` = \"a holiday\"\n",
        "\n",
        "Then the expected output is:  \n",
        "> \"Welcome to your Personal Finance Tracker, Alex! Your profile is ready. The app will use a dark theme and all amounts will be in AUD. Let's start working towards your goal of saving for a a holiday!\"\n",
        "\n",
        "> **Tip:** Try a few different scenarios on paper to confirm that your plan produces a consistent and clear output."
      ]
    },
    {
      "cell_type": "code",
      "source": [],
      "metadata": {
        "id": "Z-PZyJpPM4M6"
      },
      "execution_count": null,
      "outputs": []
    },
    {
      "cell_type": "code",
      "source": [
        "def create_user_profile():\n",
        "    print(\"📊 Welcome to your Personal Finance Tracker Setup!\\n\")\n",
        "\n",
        "    # Collect user data\n",
        "    name = input(\"👤 Enter your name: \").strip().title()\n",
        "    theme_color = input(\"🎨 Enter your preferred theme color: \").strip().lower()\n",
        "    currency = input(\"💱 Enter your primary currency (e.g., AUD, USD, EUR): \").strip().upper()\n",
        "    savings_goal = input(\"💰 What is your main savings goal? \").strip().capitalize()\n",
        "\n",
        "    # Store profile in a dictionary\n",
        "    user_profile = {\n",
        "        \"Name\": name,\n",
        "        \"Theme Color\": theme_color,\n",
        "        \"Currency\": currency,\n",
        "        \"Main Savings Goal\": savings_goal\n",
        "    }\n",
        "\n",
        "    # Display personalized welcome message\n",
        "    print(\"\\n✅ Profile created successfully!\\n\")\n",
        "    print(f\"Hi {user_profile['Name']}, welcome to your finance tracker!\")\n",
        "    print(f\"Your profile is ready. The app will use a {user_profile['Theme Color']} theme and all amounts will be in {user_profile['Currency']}.\")\n",
        "    print(f\"Let's start working towards achieving your goal: {user_profile['Main Savings Goal']}.\")\n",
        "\n",
        "# Run the program\n",
        "create_user_profile()\n",
        "\n",
        "#Edited the final text to avoid any grammatical mistakes. \"Main Goal:\""
      ],
      "metadata": {
        "id": "s_O8R6aSMEYN",
        "outputId": "9ada6a75-a0b4-495d-93fd-4727b9521ef5",
        "colab": {
          "base_uri": "https://localhost:8080/"
        },
        "collapsed": true
      },
      "execution_count": 6,
      "outputs": [
        {
          "output_type": "stream",
          "name": "stdout",
          "text": [
            "📊 Welcome to your Personal Finance Tracker Setup!\n",
            "\n",
            "👤 Enter your name: Martin\n",
            "🎨 Enter your preferred theme color: Blue\n",
            "💱 Enter your primary currency (e.g., AUD, USD, EUR): AUD\n",
            "💰 What is your main savings goal? A new car\n",
            "\n",
            "✅ Profile created successfully!\n",
            "\n",
            "Hi Martin, welcome to your finance tracker!\n",
            "Your profile is ready. The app will use a blue theme and all amounts will be in AUD.\n",
            "Let's start working towards achieving your goal: A new car.\n"
          ]
        }
      ]
    },
    {
      "cell_type": "markdown",
      "metadata": {
        "id": "aY3xONe6cPuZ"
      },
      "source": [
        "---\n",
        "\n",
        "## Step 4 – Develop an Algorithm (Pseudocode)\n",
        "\n",
        "Outline your approach using pseudocode. For example:\n",
        "\n",
        "```plain\n",
        "1. Start the program.\n",
        "2. Prompt the user for their name and store it.\n",
        "3. Prompt for their preferred theme color and store it.\n",
        "4. Prompt for their primary currency and store it.\n",
        "5. Prompt for their main savings goal and store it.\n",
        "6. Construct a welcome and summary message using these inputs.\n",
        "7. Print the summary message.\n",
        "8. End the program.\n",
        "```\n",
        "\n",
        "> **Tip:** Your pseudocode need not follow Python syntax—it should simply outline the logical steps of your solution.\n",
        "\n",
        "> **AI Usage Tip:**\n",
        "> Ask an AI tool, \"Can you review my pseudocode for a Finance Tracker Profile Setup program and suggest improvements?\" Ensure that any suggestions stay within the basics you have learnt.\n",
        "\n",
        "---\n",
        "\n",
        "## Step 5 – Write the Code\n",
        "\n",
        "Translate your pseudocode into Python code. Below is one example solution:"
      ]
    },
    {
      "cell_type": "code",
      "metadata": {
        "id": "U8Ykypy4cPuZ",
        "colab": {
          "base_uri": "https://localhost:8080/",
          "height": 356
        },
        "collapsed": true,
        "outputId": "4dc6eb45-4e21-433d-b774-4846d0163afd"
      },
      "source": [
        "# Import datetime to timestamp your work\n",
        "from datetime import datetime\n",
        "\n",
        "# Collect user information for their financial profile\n",
        "user_name = input(\"What is your name? \")\n",
        "theme_color = input(\"What color would you like for your app theme? (e.g., blue, green, dark) \")\n",
        "primary_currency = input(\"What is your primary currency? (e.g., AUD, USD, EUR) \")\n",
        "main_savings_goal = input(\"What is one big savings goal you have? (e.g., New Car, Holiday) \")\n",
        "\n",
        "# Construct the personalized welcome message\n",
        "summary = (\"Welcome to your Personal Finance Tracker, \" + user_name + \"! Your profile is ready. \" + \\\n",
        "           \"The app will use a \" + theme_color + \" theme and all amounts will be in \" + \\\n",
        "           primary_currency + \". Let's start working towards your goal of saving for a \" + \\\n",
        "           main_savings_goal + \"!\")\n",
        "\n",
        "# Display the summary message\n",
        "print(summary)"
      ],
      "execution_count": 1,
      "outputs": [
        {
          "output_type": "error",
          "ename": "KeyboardInterrupt",
          "evalue": "Interrupted by user",
          "traceback": [
            "\u001b[0;31m---------------------------------------------------------------------------\u001b[0m",
            "\u001b[0;31mKeyboardInterrupt\u001b[0m                         Traceback (most recent call last)",
            "\u001b[0;32m/tmp/ipython-input-1262083418.py\u001b[0m in \u001b[0;36m<cell line: 0>\u001b[0;34m()\u001b[0m\n\u001b[1;32m      3\u001b[0m \u001b[0;34m\u001b[0m\u001b[0m\n\u001b[1;32m      4\u001b[0m \u001b[0;31m# Collect user information for their financial profile\u001b[0m\u001b[0;34m\u001b[0m\u001b[0;34m\u001b[0m\u001b[0m\n\u001b[0;32m----> 5\u001b[0;31m \u001b[0muser_name\u001b[0m \u001b[0;34m=\u001b[0m \u001b[0minput\u001b[0m\u001b[0;34m(\u001b[0m\u001b[0;34m\"What is your name? \"\u001b[0m\u001b[0;34m)\u001b[0m\u001b[0;34m\u001b[0m\u001b[0;34m\u001b[0m\u001b[0m\n\u001b[0m\u001b[1;32m      6\u001b[0m \u001b[0mtheme_color\u001b[0m \u001b[0;34m=\u001b[0m \u001b[0minput\u001b[0m\u001b[0;34m(\u001b[0m\u001b[0;34m\"What color would you like for your app theme? (e.g., blue, green, dark) \"\u001b[0m\u001b[0;34m)\u001b[0m\u001b[0;34m\u001b[0m\u001b[0;34m\u001b[0m\u001b[0m\n\u001b[1;32m      7\u001b[0m \u001b[0mprimary_currency\u001b[0m \u001b[0;34m=\u001b[0m \u001b[0minput\u001b[0m\u001b[0;34m(\u001b[0m\u001b[0;34m\"What is your primary currency? (e.g., AUD, USD, EUR) \"\u001b[0m\u001b[0;34m)\u001b[0m\u001b[0;34m\u001b[0m\u001b[0;34m\u001b[0m\u001b[0m\n",
            "\u001b[0;32m/usr/local/lib/python3.11/dist-packages/ipykernel/kernelbase.py\u001b[0m in \u001b[0;36mraw_input\u001b[0;34m(self, prompt)\u001b[0m\n\u001b[1;32m   1175\u001b[0m                 \u001b[0;34m\"raw_input was called, but this frontend does not support input requests.\"\u001b[0m\u001b[0;34m\u001b[0m\u001b[0;34m\u001b[0m\u001b[0m\n\u001b[1;32m   1176\u001b[0m             )\n\u001b[0;32m-> 1177\u001b[0;31m         return self._input_request(\n\u001b[0m\u001b[1;32m   1178\u001b[0m             \u001b[0mstr\u001b[0m\u001b[0;34m(\u001b[0m\u001b[0mprompt\u001b[0m\u001b[0;34m)\u001b[0m\u001b[0;34m,\u001b[0m\u001b[0;34m\u001b[0m\u001b[0;34m\u001b[0m\u001b[0m\n\u001b[1;32m   1179\u001b[0m             \u001b[0mself\u001b[0m\u001b[0;34m.\u001b[0m\u001b[0m_parent_ident\u001b[0m\u001b[0;34m[\u001b[0m\u001b[0;34m\"shell\"\u001b[0m\u001b[0;34m]\u001b[0m\u001b[0;34m,\u001b[0m\u001b[0;34m\u001b[0m\u001b[0;34m\u001b[0m\u001b[0m\n",
            "\u001b[0;32m/usr/local/lib/python3.11/dist-packages/ipykernel/kernelbase.py\u001b[0m in \u001b[0;36m_input_request\u001b[0;34m(self, prompt, ident, parent, password)\u001b[0m\n\u001b[1;32m   1217\u001b[0m             \u001b[0;32mexcept\u001b[0m \u001b[0mKeyboardInterrupt\u001b[0m\u001b[0;34m:\u001b[0m\u001b[0;34m\u001b[0m\u001b[0;34m\u001b[0m\u001b[0m\n\u001b[1;32m   1218\u001b[0m                 \u001b[0;31m# re-raise KeyboardInterrupt, to truncate traceback\u001b[0m\u001b[0;34m\u001b[0m\u001b[0;34m\u001b[0m\u001b[0m\n\u001b[0;32m-> 1219\u001b[0;31m                 \u001b[0;32mraise\u001b[0m \u001b[0mKeyboardInterrupt\u001b[0m\u001b[0;34m(\u001b[0m\u001b[0;34m\"Interrupted by user\"\u001b[0m\u001b[0;34m)\u001b[0m \u001b[0;32mfrom\u001b[0m \u001b[0;32mNone\u001b[0m\u001b[0;34m\u001b[0m\u001b[0;34m\u001b[0m\u001b[0m\n\u001b[0m\u001b[1;32m   1220\u001b[0m             \u001b[0;32mexcept\u001b[0m \u001b[0mException\u001b[0m\u001b[0;34m:\u001b[0m\u001b[0;34m\u001b[0m\u001b[0;34m\u001b[0m\u001b[0m\n\u001b[1;32m   1221\u001b[0m                 \u001b[0mself\u001b[0m\u001b[0;34m.\u001b[0m\u001b[0mlog\u001b[0m\u001b[0;34m.\u001b[0m\u001b[0mwarning\u001b[0m\u001b[0;34m(\u001b[0m\u001b[0;34m\"Invalid Message:\"\u001b[0m\u001b[0;34m,\u001b[0m \u001b[0mexc_info\u001b[0m\u001b[0;34m=\u001b[0m\u001b[0;32mTrue\u001b[0m\u001b[0;34m)\u001b[0m\u001b[0;34m\u001b[0m\u001b[0;34m\u001b[0m\u001b[0m\n",
            "\u001b[0;31mKeyboardInterrupt\u001b[0m: Interrupted by user"
          ]
        }
      ]
    },
    {
      "cell_type": "code",
      "source": [
        "import json\n",
        "\n",
        "def get_user_input(prompt: str, formatter=str) -> str:\n",
        "    return formatter(input(prompt).strip())\n",
        "\n",
        "def display_profile(profile: dict) -> None:\n",
        "    print(\"\\n✅ Profile created successfully!\\n\")\n",
        "    print(f\"Hi {profile['Name']}, welcome to your finance tracker!\")\n",
        "    print(f\"Your profile is ready. The app will use a {profile['Theme Color']} theme and all amounts will be in {profile['Currency']}.\")\n",
        "    print(f\"Let's start working towards achieving your goal: {profile['Main Savings Goal']}.\")\n",
        "\n",
        "def save_profile_to_file(profile: dict, filename: str = \"user_profile.json\") -> None:\n",
        "    with open(filename, \"w\") as f:\n",
        "        json.dump(profile, f, indent=4)\n",
        "    print(f\"\\n💾 Your profile has been saved to '{filename}'.\")\n",
        "\n",
        "def create_user_profile() -> None:\n",
        "    print(\"📊 Welcome to your Personal Finance Tracker Setup!\\n\")\n",
        "\n",
        "    # Collect user data\n",
        "    name = get_user_input(\"👤 Enter your name: \", str.title)\n",
        "    theme_color = get_user_input(\"🎨 Enter your preferred theme color: \", str.lower)\n",
        "    currency = get_user_input(\"💱 Enter your primary currency (e.g., AUD, USD, EUR): \", str.upper)\n",
        "    savings_goal = get_user_input(\"💰 What is your main savings goal? \", str.capitalize)\n",
        "\n",
        "    # Store profile in a dictionary\n",
        "    user_profile = {\n",
        "        \"Name\": name,\n",
        "        \"Theme Color\": theme_color,\n",
        "        \"Currency\": currency,\n",
        "        \"Main Savings Goal\": savings_goal\n",
        "    }\n",
        "\n",
        "    # Display and save profile\n",
        "    display_profile(user_profile)\n",
        "    save_profile_to_file(user_profile)\n",
        "\n",
        "# Run the program\n",
        "create_user_profile()\n",
        "\n",
        "#rewriting the modular functions.\n",
        "#Adding a cool feature, with 'profile saved to user_profile.json'.\n"
      ],
      "metadata": {
        "id": "s7N2VeK0QGi5",
        "outputId": "7ef585d7-a12b-4a7b-faf4-f08857ae4b88",
        "colab": {
          "base_uri": "https://localhost:8080/"
        }
      },
      "execution_count": 7,
      "outputs": [
        {
          "output_type": "stream",
          "name": "stdout",
          "text": [
            "📊 Welcome to your Personal Finance Tracker Setup!\n",
            "\n",
            "👤 Enter your name: Martin\n",
            "🎨 Enter your preferred theme color: Blue\n",
            "💱 Enter your primary currency (e.g., AUD, USD, EUR): AUD\n",
            "💰 What is your main savings goal? A new car\n",
            "\n",
            "✅ Profile created successfully!\n",
            "\n",
            "Hi Martin, welcome to your finance tracker!\n",
            "Your profile is ready. The app will use a blue theme and all amounts will be in AUD.\n",
            "Let's start working towards achieving your goal: A new car.\n",
            "\n",
            "💾 Your profile has been saved to 'user_profile.json'.\n"
          ]
        }
      ]
    },
    {
      "cell_type": "markdown",
      "metadata": {
        "id": "new-evidence-markdown-cell"
      },
      "source": [
        "---\n",
        "\n",
        "## 📋 Evidence Package for Lab Exit Ticket\n",
        "\n",
        "Complete the following evidence package to document your work and reflect on the process. This will be checked at the start of the next lab."
      ]
    },
    {
      "cell_type": "code",
      "metadata": {
        "id": "new-evidence-code-cell",
        "colab": {
          "base_uri": "https://localhost:8080/"
        },
        "outputId": "caf7979b-a019-474e-949c-36868e2dd095"
      },
      "source": [
        "# Complete this dictionary with your reflections.\n",
        "evidence_package = {\n",
        "    \"timestamp\": datetime.now().strftime('%Y-%m-%d %H:%M:%S'),\n",
        "    \"student_name\": \"Martin\",\n",
        "    \"project_context\": \"This project involved the creation of a program (Personal Finance Tracker), involving the theme colour, currency, goal and user's name.\",\n",
        "    \"ai_tool_used\": \"ChatGPT\",\n",
        "    \"ai_assistance_summary\": \"I used AI to help produce this program and suggested fixes for grammatical mistakes, I also had utilised ChatGPT to assist with adding extra features to the program like; Summary and the 'Saved profile to profile'.\",\n",
        "    \"best_practice_reflection\": \"Editing the prompt for goals to suit any input provided by the users, ensuring that the message is grammatically correst.\",\n",
        "    \"key_learning\": \"I have learnt to utilise AI in a way that improves any error within the program, by identifying problems yourself you analyse what your response could be to the problem then ask AI and see what relevancy are in both answers for overall answer.\"\n",
        "}\n",
        "\n",
        "# Display your evidence package\n",
        "print(\"=\"*50)\n",
        "print(\"EVIDENCE PACKAGE SUBMISSION\")\n",
        "print(\"=\"*50)\n",
        "for key, value in evidence_package.items():\n",
        "    # Format multi-line strings for better readability\n",
        "    if isinstance(value, str) and len(value) > 60:\n",
        "        print(f'\\n{key.replace(\"_\", \" \").title()}:\\n  {value}')\n",
        "    else:\n",
        "        print(f'{key.replace(\"_\", \" \").title()}: {value}')\n",
        "print(\"=\"*50)"
      ],
      "execution_count": 9,
      "outputs": [
        {
          "output_type": "stream",
          "name": "stdout",
          "text": [
            "==================================================\n",
            "EVIDENCE PACKAGE SUBMISSION\n",
            "==================================================\n",
            "Timestamp: 2025-08-05 12:52:09\n",
            "Student Name: Martin\n",
            "\n",
            "Project Context:\n",
            "  This project involved the creation of a program (Personal Finance Tracker), involving the theme colour, currency, goal and user's name.\n",
            "Ai Tool Used: ChatGPT\n",
            "\n",
            "Ai Assistance Summary:\n",
            "  I used AI to help produce this program and suggested fixes for grammatical mistakes, I also had utilised ChatGPT to assist with adding extra features to the program like; Summary and the 'Saved profile to profile'.\n",
            "\n",
            "Best Practice Reflection:\n",
            "  Editing the prompt for goals to suit any input provided by the users, ensuring that the message is grammatically correst.\n",
            "\n",
            "Key Learning:\n",
            "  I have learnt to utilise AI in a way that improves any error within the program, by identifying problems yourself you analyse what your response could be to the problem then ask AI and see what relevancy are in both answers for overall answer.\n",
            "==================================================\n"
          ]
        }
      ]
    },
    {
      "cell_type": "markdown",
      "source": [
        "1. How did using descriptive variable names and comments improve your code?\n",
        "\n",
        "This had helped by allowing the program to identify specific strips lined with each other to execute the goal efficiently.\n",
        "\n",
        "2. Did you save your work frequently and use meaningful commit messages on GitHub?\n",
        "\n",
        "I was able to save my work after any changes, but was not able to input commit messages.\n",
        "\n",
        "3. How did documenting your thought process help you understand your solution better?\n",
        "\n",
        "By inputting my thought process throughout the activity I was able to keep track and understand what is needed to be completed, what has been completed already and any issues that are needed to be addressed later."
      ],
      "metadata": {
        "id": "yFVD2WJUSs8X"
      }
    },
    {
      "cell_type": "markdown",
      "metadata": {
        "id": "cGuW0n5scPua"
      },
      "source": [
        "---\n",
        "\n",
        "## Reflection on Industry Best Practices\n",
        "\n",
        "Reflect on these questions:\n",
        "- How did using descriptive variable names and comments improve your code?\n",
        "- Did you save your work frequently and use meaningful commit messages on GitHub?\n",
        "- How did documenting your thought process help you understand your solution better?\n",
        "\n",
        "> **AI Usage Tip:**\n",
        "> Ask an AI tool, \"Can you suggest improvements to my project documentation and commit message examples based on industry best practices for a finance app setup?\" Verify that the suggestions are consistent with the fundamentals you have learnt.\n",
        "\n",
        "---\n",
        "\n",
        "## Final Reflection and Next Steps\n",
        "\n",
        "- **Reflect:**\n",
        "  Review your completed project and consider how collating these exercises helped you see your progress. Ask yourself if you’re following the best practices we discussed.\n",
        "- **Experiment:**\n",
        "  Try adding more inputs (like a secondary savings goal) or adjusting the output format.\n",
        "- **Share:**\n",
        "  Post your project on GitHub with clear commit messages and share it with peers for feedback.\n",
        "- **Continue Using AI:**\n",
        "  Use AI tools to clarify doubts or review your work, but always verify that the suggestions align with what you've learnt (i.e., only using input(), print(), and basic variables).\n",
        "\n",
        "> **Final Note:**\n",
        "> Happy coding, and remember—the practices you develop here are examples from industry that help build clean, maintainable code. They’re not definitive rules, but good habits to emulate as you grow as a software developer.\n",
        "\n",
        "---\n",
        "\n",
        "Enjoy building this first step of your Personal Finance Tracker while practising these best practices!"
      ]
    }
  ],
  "metadata": {
    "kernelspec": {
      "name": "python3",
      "language": "python",
      "display_name": "Python 3 (ipykernel)"
    },
    "colab": {
      "provenance": [],
      "include_colab_link": true
    }
  },
  "nbformat": 4,
  "nbformat_minor": 0
}