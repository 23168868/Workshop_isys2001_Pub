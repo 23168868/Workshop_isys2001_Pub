{
  "cells": [
    {
      "cell_type": "markdown",
      "metadata": {
        "id": "view-in-github",
        "colab_type": "text"
      },
      "source": [
        "<a href=\"https://colab.research.google.com/github/23168868/Workshop_isys2001_Pub/blob/main/Module%2003%20-%20Making%20Computers%20Think/week3_finance_miniproject.ipynb\" target=\"_parent\"><img src=\"https://colab.research.google.com/assets/colab-badge.svg\" alt=\"Open In Colab\"/></a>"
      ]
    },
    {
      "cell_type": "markdown",
      "metadata": {
        "id": "m2WIkVMIUSZ8"
      },
      "source": [
        "# Week 3 Mini-Project: Smart Budget Decisions\n",
        "\n",
        "## Project Overview\n",
        "\n",
        "This week, you'll build the **decision-making foundation** for your personal finance tracker. By the end, you'll have a program that makes smart budget decisions - the same logic patterns you learned with grade calculators, but applied to real financial scenarios.\n",
        "\n",
        "## Learning Objectives\n",
        "\n",
        "- Apply if/elif/else to financial decision making\n",
        "- Practice input validation with money amounts\n",
        "- Build reusable financial logic patterns\n",
        "- Start your semester-long finance tracker project"
      ]
    },
    {
      "cell_type": "markdown",
      "metadata": {
        "id": "Q9hIwzzqUSaA"
      },
      "source": [
        "---\n",
        "\n",
        "## Part 1: Warm-Up - Pattern Recognition (10 minutes)\n",
        "\n",
        "### From Grades to Money\n",
        "You've learned to classify test scores into letter grades. Let's apply the **exact same pattern** to classify expenses:\n",
        "\n",
        "**Grade Classifier** (familiar):\n",
        "```python\n",
        "if score >= 90:\n",
        "    grade = \"A\"\n",
        "elif score >= 80:\n",
        "    grade = \"B\"\n",
        "# ... etc\n",
        "```\n",
        "\n",
        "**Expense Classifier** (new domain, same logic):\n",
        "```python\n",
        "if amount >= 100:\n",
        "    category = \"Major Expense\"\n",
        "elif amount >= 50:\n",
        "    category = \"Moderate Expense\"\n",
        "elif amount >= 10:\n",
        "    category = \"Minor Expense\"\n",
        "else:\n",
        "    category = \"Small Purchase\"\n",
        "```\n",
        "\n",
        "**Your Task**: Write a complete expense classifier that:\n",
        "\n",
        "1. Asks user for an expense amount\n",
        "2. Classifies it using the ranges above\n",
        "3. Prints a helpful message for each category\n",
        "\n",
        "---\n",
        "\n",
        "## Part 2: Financial Decision Logic (15 minutes)\n",
        "\n",
        "### Budget Limit Checker\n",
        "Apply your if/else skills to real budget management:"
      ]
    },
    {
      "cell_type": "code",
      "source": [
        "#expense classifier\n",
        "print(\"Espense Classifier\")\n",
        "\n",
        "amount = input(\"Enter expense amount: \")\n",
        "amount = int(amount)\n",
        "if amount >= 100:\n",
        "  category = \"Major Expense\"\n",
        "  print(\"Your Expense is: \", category)\n",
        "elif amount >= 50:\n",
        "  category = \"Moderate Expense\"\n",
        "  print(\"Your Espense is: \", category)\n",
        "elif amount >= 10:\n",
        "  category = \"Minor Expense\"\n",
        "  print(\"Your Expense is: \", category)\n",
        "else:\n",
        "  category = \"Small Purchase\"\n",
        "  print(\"Your Expense is :\", category)"
      ],
      "metadata": {
        "colab": {
          "base_uri": "https://localhost:8080/"
        },
        "id": "C7hqGPWwW2XX",
        "outputId": "53845a55-c283-483a-ca18-e2def45d3d63"
      },
      "execution_count": 13,
      "outputs": [
        {
          "output_type": "stream",
          "name": "stdout",
          "text": [
            "Espense Classifier\n",
            "Enter expense amount: 4\n",
            "Your Expense is : Small Purchase\n"
          ]
        }
      ]
    },
    {
      "cell_type": "code",
      "source": [
        "#grade classifier\n",
        "print(\"Grade Checker\")\n",
        "\n",
        "score = input(\"Enter your test score: \")\n",
        "score = int(score) # Convert input to integer\n",
        "if score >= 90:\n",
        "  grade = \"A\"\n",
        "  print(\"Your Grade is:\", grade)\n",
        "elif score >= 80:\n",
        "  grade = \"B\"\n",
        "  print(\"Your Grade is:\", grade)\n",
        "elif score >= 70:\n",
        "  grade = \"C\"\n",
        "  print(\"Your Grade is:\", grade)\n",
        "elif score >= 60:\n",
        "  grade = \"D\"\n",
        "  print(\"Your Grade is:\", grade)\n",
        "elif score >= 50:\n",
        "  grade = \"E\"\n",
        "  print(\"Your Grade is:\", grade)\n",
        "elif score >= 40:\n",
        "  grade = \"F\"\n",
        "  print(\"Your Grade is:\", grade)\n",
        "else:\n",
        "  grade = \"F\"\n",
        "  print(\"Your Grade is:\", grade)\n"
      ],
      "metadata": {
        "colab": {
          "base_uri": "https://localhost:8080/"
        },
        "id": "K8BGsSbuSuQL",
        "outputId": "c2985eb9-ca74-4a73-c004-84e8e8960cd5"
      },
      "execution_count": 11,
      "outputs": [
        {
          "output_type": "stream",
          "name": "stdout",
          "text": [
            "Grade Checker\n",
            "Enter your test score:78\n",
            "Your Grade is: C\n"
          ]
        }
      ]
    },
    {
      "cell_type": "code",
      "metadata": {
        "id": "NR7GJYpSUSaB",
        "colab": {
          "base_uri": "https://localhost:8080/"
        },
        "outputId": "88d6a39c-74c6-4f56-dd9b-969843982695"
      },
      "source": [
        "print(\"=== Budget Limit Checker ===\")\n",
        "\n",
        "# Get user's budget and expense\n",
        "monthly_budget = float(input(\"Enter your monthly budget: $\"))\n",
        "expense = float(input(\"Enter expense amount: $\"))\n",
        "\n",
        "if expense >= 0.5 * monthly_budget:\n",
        "  print(\"Major purchase - think carefully.\")\n",
        "elif expense >= 0.25 * monthly_budget:\n",
        "  print(\"Significant Expense.\")\n",
        "elif expense >= 0.1 * monthly_budget:\n",
        "  print(\"Moderate Expense.\")\n",
        "else:\n",
        "  print(\"Minor Expense - within budget.\")\n",
        "# Decision logic here - you write this part!\n",
        "# If expense > 50% of budget: \"Major purchase - think carefully\"\n",
        "# If expense > 25% of budget: \"Significant expense\"\n",
        "# If expense > 10% of budget: \"Moderate expense\"\n",
        "# Otherwise: \"Minor expense - within budget\""
      ],
      "execution_count": 22,
      "outputs": [
        {
          "output_type": "stream",
          "name": "stdout",
          "text": [
            "=== Budget Limit Checker ===\n",
            "Enter your monthly budget: $500\n",
            "Enter expense amount: $5\n",
            "Minor Expense - within budget.\n"
          ]
        }
      ]
    },
    {
      "cell_type": "markdown",
      "metadata": {
        "id": "7QFSIplCUSaC"
      },
      "source": [
        "### Savings Goal Progress\n",
        "Use multiple conditions to track savings progress:"
      ]
    },
    {
      "cell_type": "code",
      "metadata": {
        "id": "2c8oBvIPUSaC",
        "colab": {
          "base_uri": "https://localhost:8080/"
        },
        "outputId": "fce2e1ee-dc87-4da7-b28c-452d4c3c9fce"
      },
      "source": [
        "print(\"=== Savings Goal Tracker ===\")\n",
        "\n",
        "goal_amount = float(input(\"Savings goal: $\"))\n",
        "current_savings = float(input(\"Current savings: $\"))\n",
        "\n",
        "if current_savings >= goal_amount:\n",
        "  print(\"Congratulations! You have reached your goal!\")\n",
        "elif current_savings >= 0.75 * goal_amount:\n",
        "  print(\"Almost there! You're doing great.\")\n",
        "elif current_savings >= 0.5 * goal_amount:\n",
        "  print(\"Halfway there - keep it up!\")\n",
        "elif current_savings >= 0.25 * goal_amount:\n",
        "  print(\"Good progress - keep at it.\")\n",
        "else:\n",
        "  print(\"Just starting, keep going!\")\n",
        "\n",
        "\n",
        "# Your task: Calculate percentage and give encouraging feedback\n",
        "# 100%+: \"Goal achieved! Consider a new goal.\"\n",
        "# 75-99%: \"Almost there! You're doing great.\"\n",
        "# 50-74%: \"Halfway there - keep it up!\"\n",
        "# 25-49%: \"Good progress, stay consistent\"\n",
        "# Under 25%: \"Just getting started - you've got this!\""
      ],
      "execution_count": 32,
      "outputs": [
        {
          "output_type": "stream",
          "name": "stdout",
          "text": [
            "=== Savings Goal Tracker ===\n",
            "Savings goal: $500\n",
            "Current savings: $5\n",
            "Just starting, keep going!\n"
          ]
        }
      ]
    },
    {
      "cell_type": "markdown",
      "metadata": {
        "id": "rzYAsQiFUSaD"
      },
      "source": [
        "---\n",
        "\n",
        "## Part 3: Smart Purchase Advisor (20 minutes)\n",
        "\n",
        "### The Challenge\n",
        "Build a program that helps users make smart purchase decisions by considering multiple factors.\n",
        "\n",
        "### Requirements\n",
        "\n",
        "Your purchase advisor should:\n",
        "\n",
        "1. Get purchase amount and user's available money\n",
        "2. Check if they can afford it (basic affordability)\n",
        "3. Give different advice based on purchase size\n",
        "4. Consider their financial situation\n",
        "\n",
        "### Starter Framework"
      ]
    },
    {
      "cell_type": "code",
      "metadata": {
        "id": "HzbPAjN0USaD",
        "colab": {
          "base_uri": "https://localhost:8080/"
        },
        "outputId": "ef908af3-ae2a-4aa5-d64c-bda8f8947846"
      },
      "source": [
        "print(\"=== Purchase Affordability & Financial Advisor ===\")\n",
        "\n",
        "# Step 1: Get financial details\n",
        "monthly_income = float(input(\"Enter your monthly income: $\"))\n",
        "available_money = float(input(\"How much money do you currently have? $\"))\n",
        "emergency_fund = float(input(\"How much is in your emergency savings? $\"))\n",
        "purchase_amount = float(input(\"How much does the purchase cost? $\"))\n",
        "\n",
        "# Step 2: Purchase category\n",
        "category = input(\"Is this a 'necessity' or 'luxury' purchase? \").strip().lower()\n",
        "\n",
        "# Step 3: Basic affordability check\n",
        "if purchase_amount > available_money:\n",
        "    print(\"⚠ You can't afford this purchase with your current available money.\")\n",
        "else:\n",
        "    print(\"✅ You can afford this purchase with your current funds.\")\n",
        "\n",
        "    # Step 4: Emergency fund check\n",
        "    if available_money - purchase_amount < emergency_fund:\n",
        "        print(\"⚠ Warning: This purchase will reduce your emergency fund below its current level.\")\n",
        "    if purchase_amount > emergency_fund:\n",
        "        print(\"⚠ This purchase costs more than your emergency fund — reconsider unless essential.\")\n",
        "\n",
        "    # Step 5: Advice based on purchase size (relative to available money)\n",
        "    if purchase_amount >= 0.75 * available_money:\n",
        "        print(\"💡 This is a very large purchase — think carefully before spending.\")\n",
        "    elif purchase_amount >= 0.5 * available_money:\n",
        "        print(\"💡 This is a significant purchase — make sure it's necessary.\")\n",
        "    elif purchase_amount >= 0.25 * available_money:\n",
        "        print(\"💡 Moderate purchase — still worth considering your other expenses.\")\n",
        "    else:\n",
        "        print(\"💡 This is a small purchase — should be safe.\")\n",
        "\n",
        "    # Step 6: Category-based advice\n",
        "    if category == \"necessity\":\n",
        "        print(\"✅ Since this is a necessity, affordability is the main concern — if you can pay for it without harming essentials, it’s okay.\")\n",
        "    elif category == \"luxury\":\n",
        "        print(\"✨ Since this is a luxury, be extra sure you can afford it without affecting savings or bills.\")\n",
        "    else:\n",
        "        print(\"ℹ Category not recognized — skipping category-based advice.\")\n",
        "\n",
        "    # Step 7: Post-purchase available money\n",
        "    remaining_money = available_money - purchase_amount\n",
        "    if remaining_money < 100:\n",
        "        print(\"⚠ After this purchase, you'll have very little left — be cautious.\")\n",
        "    elif remaining_money < 500:\n",
        "        print(\"💡 You'll have a modest amount left — plan your spending carefully.\")\n",
        "    else:\n",
        "        print(\"✅ You'll still have a comfortable buffer after this purchase.\")\n",
        "\n",
        "    # Step 8: Consider monthly income impact\n",
        "    if purchase_amount > 0.5 * monthly_income:\n",
        "        print(\"⚠ This purchase is more than half your monthly income — it could strain your budget.\")\n",
        "    elif purchase_amount > 0.25 * monthly_income:\n",
        "        print(\"💡 This purchase is a significant portion of your monthly income — think about other monthly expenses.\")\n",
        "    else:\n",
        "        print(\"✅ This purchase is a small portion of your monthly income — it should be manageable.\")\n",
        "\n",
        "    # Step 9: Payment plan calculator\n",
        "    if purchase_amount > 500:  # Only show if it's a big purchase\n",
        "        print(\"\\n📅 Payment Plan Options:\")\n",
        "        for months in [3, 6, 12]:\n",
        "            monthly_payment = purchase_amount / months\n",
        "            print(f\" - {months}-month plan: ${monthly_payment:.2f} per month\")\n",
        "\n"
      ],
      "execution_count": 37,
      "outputs": [
        {
          "output_type": "stream",
          "name": "stdout",
          "text": [
            "=== Purchase Affordability & Financial Advisor ===\n",
            "Enter your monthly income: $500\n",
            "How much money do you currently have? $250\n",
            "How much is in your emergency savings? $700\n",
            "How much does the purchase cost? $340\n",
            "Is this a 'necessity' or 'luxury' purchase? luxury\n",
            "⚠ You can't afford this purchase with your current available money.\n"
          ]
        }
      ]
    },
    {
      "cell_type": "markdown",
      "metadata": {
        "id": "_tC5axg-USaF"
      },
      "source": [
        "### Sample Decision Logic to Implement\n",
        "\n",
        "- **Can't afford**: \"Save up first - you need $X more\"\n",
        "- **Can afford but expensive**: \"You can afford it, but it's Y% of your available money. Consider waiting.\"\n",
        "- **Reasonable purchase**: \"This seems like a reasonable purchase for your budget\"\n",
        "- **Small purchase**: \"This is a minor expense - go for it!\"\n",
        "\n",
        "### Bonus Challenges\n",
        "\n",
        "If you finish early, add these features:\n",
        "\n",
        "1. **Emergency fund check**: Warn if purchase would drain emergency savings\n",
        "2. **Category-based advice**: Different advice for necessities vs luxuries\n",
        "3. **Payment plan calculator**: Show monthly payment options for large purchases\n",
        "\n",
        "---\n",
        "\n",
        "## Part 4: Building Your Finance Tracker Foundation (15 minutes)\n",
        "\n",
        "### Start Your Semester Project\n",
        "\n",
        "Create a new notebook called \"Personal_Finance_Tracker\" and build the foundation:"
      ]
    },
    {
      "cell_type": "code",
      "metadata": {
        "id": "dAYWWTPHUSaH"
      },
      "source": [
        "print(\"=== Personal Finance Tracker v0.1 ===\")\n",
        "print(\"Week 3: Smart Budget Decisions\")\n",
        "print()\n",
        "\n",
        "# User setup\n",
        "name = input(\"Enter your name: \")\n",
        "monthly_income = float(input(\"Enter your monthly income: $\"))\n",
        "\n",
        "print(f\"\\nWelcome to your finance tracker, {name}!\")\n",
        "print(f\"Monthly income: ${monthly_income:.2f}\")\n",
        "\n",
        "# This week's feature: Expense categorisation\n",
        "print(\"\\n--- Expense Entry ---\")\n",
        "expense_amount = float(input(\"Enter an expense: $\"))\n",
        "expense_description = input(\"What was this expense for? \")\n",
        "\n",
        "# Apply your decision-making skills here\n",
        "# Categorise the expense and give feedback\n",
        "# This becomes the foundation you'll build on each week!"
      ],
      "execution_count": null,
      "outputs": []
    },
    {
      "cell_type": "markdown",
      "metadata": {
        "id": "58-KlCmaUSaJ"
      },
      "source": [
        "### Your Mission\n",
        "\n",
        "1. Implement the expense categorisation logic\n",
        "2. Add budget percentage calculations\n",
        "3. Give helpful feedback to the user\n",
        "4. Save this notebook - you'll expand it every week!\n",
        "\n",
        "---\n",
        "\n",
        "## Reflection Questions\n",
        "\n",
        "After completing the mini-project, consider:\n",
        "\n",
        "1. **Pattern Recognition**: How were the financial decisions similar to grade calculations?\n",
        "2. **Real-World Application**: Which financial decision logic would be most useful to you personally?\n",
        "3. **Logic Complexity**: What made some decisions harder to code than others?\n",
        "4. **Future Features**: What financial decisions would you like your tracker to help with?\n",
        "\n",
        "---\n",
        "\n",
        "## Looking Ahead\n",
        "\n",
        "### Next Week Preview\n",
        "\n",
        "Week 4 will add **loops** to your finance tracker:\n",
        "\n",
        "- Track multiple expenses in one session\n",
        "- Calculate running totals\n",
        "- Process transaction histories\n",
        "- Validate input until it's correct\n",
        "\n",
        "### Final Project Connection\n",
        "\n",
        "Each week adds new capabilities:\n",
        "\n",
        "- **Week 3**: Decision making (budget limits, categorisation)\n",
        "- **Week 4**: Repetition (multiple transactions, validation loops)\n",
        "- **Week 5**: Data storage (saving/loading financial data)\n",
        "- **Final**: AI integration (smart financial advice, pattern recognition)\n",
        "\n",
        "Your mini-projects are building blocks for something you'll actually want to use!\n",
        "\n",
        "---\n",
        "\n",
        "## Success Criteria\n",
        "\n",
        "**You'll know you're successful when**:\n",
        "- ✅ Your programs make different decisions based on financial data\n",
        "- ✅ You can explain why you chose specific budget thresholds\n",
        "- ✅ Your code handles various expense amounts appropriately\n",
        "- ✅ You see the connection between programming concepts and real financial decisions\n",
        "- ✅ You're excited about what you'll add to your tracker next week\n",
        "\n",
        "**Remember**: This is unassessed practice - focus on learning and experimenting!"
      ]
    }
  ],
  "metadata": {
    "kernelspec": {
      "display_name": "Python 3",
      "language": "python",
      "name": "python3"
    },
    "colab": {
      "provenance": [],
      "include_colab_link": true
    }
  },
  "nbformat": 4,
  "nbformat_minor": 0
}