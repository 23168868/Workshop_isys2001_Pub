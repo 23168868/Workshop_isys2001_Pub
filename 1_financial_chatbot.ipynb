{
  "cells": [
    {
      "cell_type": "markdown",
      "metadata": {
        "id": "view-in-github",
        "colab_type": "text"
      },
      "source": [
        "<a href=\"https://colab.research.google.com/github/23168868/Workshop_isys2001_Pub/blob/main/1_financial_chatbot.ipynb\" target=\"_parent\"><img src=\"https://colab.research.google.com/assets/colab-badge.svg\" alt=\"Open In Colab\"/></a>"
      ]
    },
    {
      "cell_type": "markdown",
      "metadata": {
        "id": "qfiUrlhmDnt6"
      },
      "source": [
        "# Building a Financial Advisor Chatbot\n",
        "**Learn to create an AI-powered financial assistant using hands-on-ai**\n",
        "\n",
        "## What You'll Build\n",
        "A simple chatbot that acts as a \"Financial Sage\" - giving educational financial advice and analyzing transaction data from CSV files.\n",
        "\n",
        "## Setup\n",
        "\n",
        "1First install package"
      ]
    },
    {
      "cell_type": "code",
      "metadata": {
        "id": "gIcEiSdbDnuA",
        "colab": {
          "base_uri": "https://localhost:8080/"
        },
        "outputId": "d7292dcf-1b5e-42e0-8134-e4832a5fb818"
      },
      "source": [
        "# Install required packages\n",
        "!pip install hands-on-ai pandas"
      ],
      "execution_count": 1,
      "outputs": [
        {
          "output_type": "stream",
          "name": "stdout",
          "text": [
            "Collecting hands-on-ai\n",
            "  Downloading hands_on_ai-0.2.1-py3-none-any.whl.metadata (9.2 kB)\n",
            "Requirement already satisfied: pandas in /usr/local/lib/python3.12/dist-packages (2.2.2)\n",
            "Requirement already satisfied: requests in /usr/local/lib/python3.12/dist-packages (from hands-on-ai) (2.32.4)\n",
            "Requirement already satisfied: typer in /usr/local/lib/python3.12/dist-packages (from hands-on-ai) (0.17.4)\n",
            "Collecting python-fasthtml (from hands-on-ai)\n",
            "  Downloading python_fasthtml-0.12.27-py3-none-any.whl.metadata (9.3 kB)\n",
            "Collecting python-docx (from hands-on-ai)\n",
            "  Downloading python_docx-1.2.0-py3-none-any.whl.metadata (2.0 kB)\n",
            "Collecting pymupdf (from hands-on-ai)\n",
            "  Downloading pymupdf-1.26.4-cp39-abi3-manylinux_2_28_x86_64.whl.metadata (3.4 kB)\n",
            "Requirement already satisfied: scikit-learn in /usr/local/lib/python3.12/dist-packages (from hands-on-ai) (1.6.1)\n",
            "Requirement already satisfied: numpy in /usr/local/lib/python3.12/dist-packages (from hands-on-ai) (2.0.2)\n",
            "Collecting instructor>=1.11.0 (from hands-on-ai)\n",
            "  Downloading instructor-1.11.3-py3-none-any.whl.metadata (11 kB)\n",
            "Requirement already satisfied: pydantic>=2.0 in /usr/local/lib/python3.12/dist-packages (from hands-on-ai) (2.11.7)\n",
            "Requirement already satisfied: python-dateutil>=2.8.2 in /usr/local/lib/python3.12/dist-packages (from pandas) (2.9.0.post0)\n",
            "Requirement already satisfied: pytz>=2020.1 in /usr/local/lib/python3.12/dist-packages (from pandas) (2025.2)\n",
            "Requirement already satisfied: tzdata>=2022.7 in /usr/local/lib/python3.12/dist-packages (from pandas) (2025.2)\n",
            "Requirement already satisfied: aiohttp<4.0.0,>=3.9.1 in /usr/local/lib/python3.12/dist-packages (from instructor>=1.11.0->hands-on-ai) (3.12.15)\n",
            "Collecting diskcache>=5.6.3 (from instructor>=1.11.0->hands-on-ai)\n",
            "  Downloading diskcache-5.6.3-py3-none-any.whl.metadata (20 kB)\n",
            "Requirement already satisfied: docstring-parser<1.0,>=0.16 in /usr/local/lib/python3.12/dist-packages (from instructor>=1.11.0->hands-on-ai) (0.17.0)\n",
            "Requirement already satisfied: jinja2<4.0.0,>=3.1.4 in /usr/local/lib/python3.12/dist-packages (from instructor>=1.11.0->hands-on-ai) (3.1.6)\n",
            "Requirement already satisfied: jiter<0.11,>=0.6.1 in /usr/local/lib/python3.12/dist-packages (from instructor>=1.11.0->hands-on-ai) (0.10.0)\n",
            "Requirement already satisfied: openai<2.0.0,>=1.70.0 in /usr/local/lib/python3.12/dist-packages (from instructor>=1.11.0->hands-on-ai) (1.107.0)\n",
            "Requirement already satisfied: pydantic-core<3.0.0,>=2.18.0 in /usr/local/lib/python3.12/dist-packages (from instructor>=1.11.0->hands-on-ai) (2.33.2)\n",
            "Requirement already satisfied: rich<15.0.0,>=13.7.0 in /usr/local/lib/python3.12/dist-packages (from instructor>=1.11.0->hands-on-ai) (13.9.4)\n",
            "Requirement already satisfied: tenacity<10.0.0,>=8.2.3 in /usr/local/lib/python3.12/dist-packages (from instructor>=1.11.0->hands-on-ai) (8.5.0)\n",
            "Requirement already satisfied: annotated-types>=0.6.0 in /usr/local/lib/python3.12/dist-packages (from pydantic>=2.0->hands-on-ai) (0.7.0)\n",
            "Requirement already satisfied: typing-extensions>=4.12.2 in /usr/local/lib/python3.12/dist-packages (from pydantic>=2.0->hands-on-ai) (4.15.0)\n",
            "Requirement already satisfied: typing-inspection>=0.4.0 in /usr/local/lib/python3.12/dist-packages (from pydantic>=2.0->hands-on-ai) (0.4.1)\n",
            "Requirement already satisfied: six>=1.5 in /usr/local/lib/python3.12/dist-packages (from python-dateutil>=2.8.2->pandas) (1.17.0)\n",
            "Requirement already satisfied: charset_normalizer<4,>=2 in /usr/local/lib/python3.12/dist-packages (from requests->hands-on-ai) (3.4.3)\n",
            "Requirement already satisfied: idna<4,>=2.5 in /usr/local/lib/python3.12/dist-packages (from requests->hands-on-ai) (3.10)\n",
            "Requirement already satisfied: urllib3<3,>=1.21.1 in /usr/local/lib/python3.12/dist-packages (from requests->hands-on-ai) (2.5.0)\n",
            "Requirement already satisfied: certifi>=2017.4.17 in /usr/local/lib/python3.12/dist-packages (from requests->hands-on-ai) (2025.8.3)\n",
            "Requirement already satisfied: click>=8.0.0 in /usr/local/lib/python3.12/dist-packages (from typer->hands-on-ai) (8.2.1)\n",
            "Requirement already satisfied: shellingham>=1.3.0 in /usr/local/lib/python3.12/dist-packages (from typer->hands-on-ai) (1.5.4)\n",
            "Requirement already satisfied: lxml>=3.1.0 in /usr/local/lib/python3.12/dist-packages (from python-docx->hands-on-ai) (5.4.0)\n",
            "Requirement already satisfied: fastcore>=1.8.1 in /usr/local/lib/python3.12/dist-packages (from python-fasthtml->hands-on-ai) (1.8.8)\n",
            "Requirement already satisfied: starlette>0.33 in /usr/local/lib/python3.12/dist-packages (from python-fasthtml->hands-on-ai) (0.47.3)\n",
            "Requirement already satisfied: oauthlib in /usr/local/lib/python3.12/dist-packages (from python-fasthtml->hands-on-ai) (3.3.1)\n",
            "Requirement already satisfied: itsdangerous in /usr/local/lib/python3.12/dist-packages (from python-fasthtml->hands-on-ai) (2.2.0)\n",
            "Requirement already satisfied: uvicorn>=0.30 in /usr/local/lib/python3.12/dist-packages (from uvicorn[standard]>=0.30->python-fasthtml->hands-on-ai) (0.35.0)\n",
            "Requirement already satisfied: httpx in /usr/local/lib/python3.12/dist-packages (from python-fasthtml->hands-on-ai) (0.28.1)\n",
            "Collecting fastlite>=0.1.1 (from python-fasthtml->hands-on-ai)\n",
            "  Downloading fastlite-0.2.1-py3-none-any.whl.metadata (12 kB)\n",
            "Requirement already satisfied: python-multipart in /usr/local/lib/python3.12/dist-packages (from python-fasthtml->hands-on-ai) (0.0.20)\n",
            "Requirement already satisfied: beautifulsoup4 in /usr/local/lib/python3.12/dist-packages (from python-fasthtml->hands-on-ai) (4.13.5)\n",
            "Requirement already satisfied: scipy>=1.6.0 in /usr/local/lib/python3.12/dist-packages (from scikit-learn->hands-on-ai) (1.16.1)\n",
            "Requirement already satisfied: joblib>=1.2.0 in /usr/local/lib/python3.12/dist-packages (from scikit-learn->hands-on-ai) (1.5.2)\n",
            "Requirement already satisfied: threadpoolctl>=3.1.0 in /usr/local/lib/python3.12/dist-packages (from scikit-learn->hands-on-ai) (3.6.0)\n",
            "Requirement already satisfied: aiohappyeyeballs>=2.5.0 in /usr/local/lib/python3.12/dist-packages (from aiohttp<4.0.0,>=3.9.1->instructor>=1.11.0->hands-on-ai) (2.6.1)\n",
            "Requirement already satisfied: aiosignal>=1.4.0 in /usr/local/lib/python3.12/dist-packages (from aiohttp<4.0.0,>=3.9.1->instructor>=1.11.0->hands-on-ai) (1.4.0)\n",
            "Requirement already satisfied: attrs>=17.3.0 in /usr/local/lib/python3.12/dist-packages (from aiohttp<4.0.0,>=3.9.1->instructor>=1.11.0->hands-on-ai) (25.3.0)\n",
            "Requirement already satisfied: frozenlist>=1.1.1 in /usr/local/lib/python3.12/dist-packages (from aiohttp<4.0.0,>=3.9.1->instructor>=1.11.0->hands-on-ai) (1.7.0)\n",
            "Requirement already satisfied: multidict<7.0,>=4.5 in /usr/local/lib/python3.12/dist-packages (from aiohttp<4.0.0,>=3.9.1->instructor>=1.11.0->hands-on-ai) (6.6.4)\n",
            "Requirement already satisfied: propcache>=0.2.0 in /usr/local/lib/python3.12/dist-packages (from aiohttp<4.0.0,>=3.9.1->instructor>=1.11.0->hands-on-ai) (0.3.2)\n",
            "Requirement already satisfied: yarl<2.0,>=1.17.0 in /usr/local/lib/python3.12/dist-packages (from aiohttp<4.0.0,>=3.9.1->instructor>=1.11.0->hands-on-ai) (1.20.1)\n",
            "Requirement already satisfied: packaging in /usr/local/lib/python3.12/dist-packages (from fastcore>=1.8.1->python-fasthtml->hands-on-ai) (25.0)\n",
            "Collecting apswutils>=0.1.0 (from fastlite>=0.1.1->python-fasthtml->hands-on-ai)\n",
            "  Downloading apswutils-0.1.0-py3-none-any.whl.metadata (7.4 kB)\n",
            "Requirement already satisfied: MarkupSafe>=2.0 in /usr/local/lib/python3.12/dist-packages (from jinja2<4.0.0,>=3.1.4->instructor>=1.11.0->hands-on-ai) (3.0.2)\n",
            "Requirement already satisfied: anyio<5,>=3.5.0 in /usr/local/lib/python3.12/dist-packages (from openai<2.0.0,>=1.70.0->instructor>=1.11.0->hands-on-ai) (4.10.0)\n",
            "Requirement already satisfied: distro<2,>=1.7.0 in /usr/local/lib/python3.12/dist-packages (from openai<2.0.0,>=1.70.0->instructor>=1.11.0->hands-on-ai) (1.9.0)\n",
            "Requirement already satisfied: sniffio in /usr/local/lib/python3.12/dist-packages (from openai<2.0.0,>=1.70.0->instructor>=1.11.0->hands-on-ai) (1.3.1)\n",
            "Requirement already satisfied: tqdm>4 in /usr/local/lib/python3.12/dist-packages (from openai<2.0.0,>=1.70.0->instructor>=1.11.0->hands-on-ai) (4.67.1)\n",
            "Requirement already satisfied: httpcore==1.* in /usr/local/lib/python3.12/dist-packages (from httpx->python-fasthtml->hands-on-ai) (1.0.9)\n",
            "Requirement already satisfied: h11>=0.16 in /usr/local/lib/python3.12/dist-packages (from httpcore==1.*->httpx->python-fasthtml->hands-on-ai) (0.16.0)\n",
            "Requirement already satisfied: markdown-it-py>=2.2.0 in /usr/local/lib/python3.12/dist-packages (from rich<15.0.0,>=13.7.0->instructor>=1.11.0->hands-on-ai) (4.0.0)\n",
            "Requirement already satisfied: pygments<3.0.0,>=2.13.0 in /usr/local/lib/python3.12/dist-packages (from rich<15.0.0,>=13.7.0->instructor>=1.11.0->hands-on-ai) (2.19.2)\n",
            "Collecting httptools>=0.6.3 (from uvicorn[standard]>=0.30->python-fasthtml->hands-on-ai)\n",
            "  Downloading httptools-0.6.4-cp312-cp312-manylinux_2_5_x86_64.manylinux1_x86_64.manylinux_2_17_x86_64.manylinux2014_x86_64.whl.metadata (3.6 kB)\n",
            "Requirement already satisfied: python-dotenv>=0.13 in /usr/local/lib/python3.12/dist-packages (from uvicorn[standard]>=0.30->python-fasthtml->hands-on-ai) (1.1.1)\n",
            "Requirement already satisfied: pyyaml>=5.1 in /usr/local/lib/python3.12/dist-packages (from uvicorn[standard]>=0.30->python-fasthtml->hands-on-ai) (6.0.2)\n",
            "Collecting uvloop>=0.15.1 (from uvicorn[standard]>=0.30->python-fasthtml->hands-on-ai)\n",
            "  Downloading uvloop-0.21.0-cp312-cp312-manylinux_2_17_x86_64.manylinux2014_x86_64.whl.metadata (4.9 kB)\n",
            "Collecting watchfiles>=0.13 (from uvicorn[standard]>=0.30->python-fasthtml->hands-on-ai)\n",
            "  Downloading watchfiles-1.1.0-cp312-cp312-manylinux_2_17_x86_64.manylinux2014_x86_64.whl.metadata (4.9 kB)\n",
            "Requirement already satisfied: websockets>=10.4 in /usr/local/lib/python3.12/dist-packages (from uvicorn[standard]>=0.30->python-fasthtml->hands-on-ai) (15.0.1)\n",
            "Requirement already satisfied: soupsieve>1.2 in /usr/local/lib/python3.12/dist-packages (from beautifulsoup4->python-fasthtml->hands-on-ai) (2.8)\n",
            "Collecting apsw (from apswutils>=0.1.0->fastlite>=0.1.1->python-fasthtml->hands-on-ai)\n",
            "  Downloading apsw-3.50.4.0-cp312-cp312-manylinux_2_28_x86_64.whl.metadata (3.7 kB)\n",
            "Requirement already satisfied: mdurl~=0.1 in /usr/local/lib/python3.12/dist-packages (from markdown-it-py>=2.2.0->rich<15.0.0,>=13.7.0->instructor>=1.11.0->hands-on-ai) (0.1.2)\n",
            "Downloading hands_on_ai-0.2.1-py3-none-any.whl (143 kB)\n",
            "\u001b[2K   \u001b[90m━━━━━━━━━━━━━━━━━━━━━━━━━━━━━━━━━━━━━━━━\u001b[0m \u001b[32m143.7/143.7 kB\u001b[0m \u001b[31m4.8 MB/s\u001b[0m eta \u001b[36m0:00:00\u001b[0m\n",
            "\u001b[?25hDownloading instructor-1.11.3-py3-none-any.whl (155 kB)\n",
            "\u001b[2K   \u001b[90m━━━━━━━━━━━━━━━━━━━━━━━━━━━━━━━━━━━━━━━━\u001b[0m \u001b[32m155.5/155.5 kB\u001b[0m \u001b[31m10.7 MB/s\u001b[0m eta \u001b[36m0:00:00\u001b[0m\n",
            "\u001b[?25hDownloading pymupdf-1.26.4-cp39-abi3-manylinux_2_28_x86_64.whl (24.1 MB)\n",
            "\u001b[2K   \u001b[90m━━━━━━━━━━━━━━━━━━━━━━━━━━━━━━━━━━━━━━━━\u001b[0m \u001b[32m24.1/24.1 MB\u001b[0m \u001b[31m94.4 MB/s\u001b[0m eta \u001b[36m0:00:00\u001b[0m\n",
            "\u001b[?25hDownloading python_docx-1.2.0-py3-none-any.whl (252 kB)\n",
            "\u001b[2K   \u001b[90m━━━━━━━━━━━━━━━━━━━━━━━━━━━━━━━━━━━━━━━━\u001b[0m \u001b[32m253.0/253.0 kB\u001b[0m \u001b[31m17.3 MB/s\u001b[0m eta \u001b[36m0:00:00\u001b[0m\n",
            "\u001b[?25hDownloading python_fasthtml-0.12.27-py3-none-any.whl (70 kB)\n",
            "\u001b[2K   \u001b[90m━━━━━━━━━━━━━━━━━━━━━━━━━━━━━━━━━━━━━━━━\u001b[0m \u001b[32m70.9/70.9 kB\u001b[0m \u001b[31m5.1 MB/s\u001b[0m eta \u001b[36m0:00:00\u001b[0m\n",
            "\u001b[?25hDownloading diskcache-5.6.3-py3-none-any.whl (45 kB)\n",
            "\u001b[2K   \u001b[90m━━━━━━━━━━━━━━━━━━━━━━━━━━━━━━━━━━━━━━━━\u001b[0m \u001b[32m45.5/45.5 kB\u001b[0m \u001b[31m3.1 MB/s\u001b[0m eta \u001b[36m0:00:00\u001b[0m\n",
            "\u001b[?25hDownloading fastlite-0.2.1-py3-none-any.whl (17 kB)\n",
            "Downloading apswutils-0.1.0-py3-none-any.whl (80 kB)\n",
            "\u001b[2K   \u001b[90m━━━━━━━━━━━━━━━━━━━━━━━━━━━━━━━━━━━━━━━━\u001b[0m \u001b[32m80.5/80.5 kB\u001b[0m \u001b[31m6.3 MB/s\u001b[0m eta \u001b[36m0:00:00\u001b[0m\n",
            "\u001b[?25hDownloading httptools-0.6.4-cp312-cp312-manylinux_2_5_x86_64.manylinux1_x86_64.manylinux_2_17_x86_64.manylinux2014_x86_64.whl (510 kB)\n",
            "\u001b[2K   \u001b[90m━━━━━━━━━━━━━━━━━━━━━━━━━━━━━━━━━━━━━━━━\u001b[0m \u001b[32m510.8/510.8 kB\u001b[0m \u001b[31m35.0 MB/s\u001b[0m eta \u001b[36m0:00:00\u001b[0m\n",
            "\u001b[?25hDownloading uvloop-0.21.0-cp312-cp312-manylinux_2_17_x86_64.manylinux2014_x86_64.whl (4.7 MB)\n",
            "\u001b[2K   \u001b[90m━━━━━━━━━━━━━━━━━━━━━━━━━━━━━━━━━━━━━━━━\u001b[0m \u001b[32m4.7/4.7 MB\u001b[0m \u001b[31m63.2 MB/s\u001b[0m eta \u001b[36m0:00:00\u001b[0m\n",
            "\u001b[?25hDownloading watchfiles-1.1.0-cp312-cp312-manylinux_2_17_x86_64.manylinux2014_x86_64.whl (452 kB)\n",
            "\u001b[2K   \u001b[90m━━━━━━━━━━━━━━━━━━━━━━━━━━━━━━━━━━━━━━━━\u001b[0m \u001b[32m452.2/452.2 kB\u001b[0m \u001b[31m27.8 MB/s\u001b[0m eta \u001b[36m0:00:00\u001b[0m\n",
            "\u001b[?25hDownloading apsw-3.50.4.0-cp312-cp312-manylinux_2_28_x86_64.whl (7.1 MB)\n",
            "\u001b[2K   \u001b[90m━━━━━━━━━━━━━━━━━━━━━━━━━━━━━━━━━━━━━━━━\u001b[0m \u001b[32m7.1/7.1 MB\u001b[0m \u001b[31m82.1 MB/s\u001b[0m eta \u001b[36m0:00:00\u001b[0m\n",
            "\u001b[?25hInstalling collected packages: uvloop, python-docx, pymupdf, httptools, diskcache, apsw, watchfiles, apswutils, fastlite, python-fasthtml, instructor, hands-on-ai\n",
            "Successfully installed apsw-3.50.4.0 apswutils-0.1.0 diskcache-5.6.3 fastlite-0.2.1 hands-on-ai-0.2.1 httptools-0.6.4 instructor-1.11.3 pymupdf-1.26.4 python-docx-1.2.0 python-fasthtml-0.12.27 uvloop-0.21.0 watchfiles-1.1.0\n"
          ]
        }
      ]
    },
    {
      "cell_type": "markdown",
      "source": [
        "Now lets setup environment\n",
        "\n",
        "The next few cells prepares your computer to talk to an AI service.\n",
        "\n",
        "It stores the server address, model name, and your secret key as environment variables.\n",
        "\n",
        "Other programs (or later Python code) can read those variables to connect to the AI—without hard-coding secrets into the source file.\n",
        "\n",
        "That's it! It's mainly about safe configuration: setting values once, keeping your API key private, and letting other code reuse those settings."
      ],
      "metadata": {
        "id": "oLgbWWlqEVKs"
      }
    },
    {
      "cell_type": "code",
      "source": [
        "import os\n",
        "from getpass import getpass"
      ],
      "metadata": {
        "id": "x-R0Sgr6Egrq"
      },
      "execution_count": 2,
      "outputs": []
    },
    {
      "cell_type": "markdown",
      "source": [
        "> os is a built-in Python module that lets you interact with your computer’s operating system.  In this script, it’s used to set environment variables—special settings your program (and other programs) can read.\n",
        "\n",
        "> getpass is a function that asks the user to type something (like a password) without showing it on the screen, so it stays secret."
      ],
      "metadata": {
        "id": "VevaDnkuEvI7"
      }
    },
    {
      "cell_type": "code",
      "source": [
        "# Configure hands-on-ai server connection\n",
        "os.environ['HANDS_ON_AI_SERVER'] = 'https://ollama.serveur.au'\n",
        "os.environ['HANDS_ON_AI_MODEL'] = 'llama3.2'"
      ],
      "metadata": {
        "id": "gGf5_Ug8EwpT"
      },
      "execution_count": 3,
      "outputs": []
    },
    {
      "cell_type": "markdown",
      "source": [
        "os.environ is like a dictionary of key-value pairs that represent environment variables.\n",
        "\n",
        "Here we create three variables:\n",
        "\n",
        "* HANDS_ON_AI_SERVER: The web address of the AI server we’ll connect to.\n",
        "* HANDS_ON_AI_MODEL: The specific AI model name we want to use (granite3.2).\n",
        "* the third is discussed later\n",
        "\n",
        "These settings can be read later by other Python code or by external tools—so you don’t have to hard-code them everywhere."
      ],
      "metadata": {
        "id": "6298qBfAFFec"
      }
    },
    {
      "cell_type": "code",
      "source": [
        "os.environ['HANDS_ON_AI_API_KEY'] = getpass('Enter your API key: ')"
      ],
      "metadata": {
        "id": "daIwptApFPaZ",
        "colab": {
          "base_uri": "https://localhost:8080/"
        },
        "outputId": "96c3110a-3000-440b-aa9c-300b7ad3c0bd"
      },
      "execution_count": 4,
      "outputs": [
        {
          "name": "stdout",
          "output_type": "stream",
          "text": [
            "Enter your API key: ··········\n"
          ]
        }
      ]
    },
    {
      "cell_type": "markdown",
      "source": [
        "The cell prompts you with the message “Enter your API key: ”.\n",
        "\n",
        "The api key needed:   **isys2001-assignment-key**\n",
        "\n",
        "While you type, nothing appears on the screen (for security).\n",
        "\n",
        "Whatever you type is saved as the environment variable HANDS_ON_AI_API_KEY.\n",
        "\n",
        "> API key = a private password-like token that proves you’re allowed to use the AI service."
      ],
      "metadata": {
        "id": "TxeW3qNoFcqE"
      }
    },
    {
      "cell_type": "code",
      "source": [
        "print(\"🔑 Hands-on-AI configured successfully!\")"
      ],
      "metadata": {
        "id": "WkusVpQNF3hC",
        "colab": {
          "base_uri": "https://localhost:8080/"
        },
        "outputId": "1d26a71a-e8eb-459a-80d5-1b7bc1e52f04"
      },
      "execution_count": 5,
      "outputs": [
        {
          "output_type": "stream",
          "name": "stdout",
          "text": [
            "🔑 Hands-on-AI configured successfully!\n"
          ]
        }
      ]
    },
    {
      "cell_type": "markdown",
      "source": [
        "Finally, a simple confirmation message shows that the setup is done.\n",
        "\n",
        "Now lets test the package.\n"
      ],
      "metadata": {
        "id": "2PQITIMHF4CJ"
      }
    },
    {
      "cell_type": "code",
      "source": [
        "from hands_on_ai.chat import pirate_bot\n",
        "print(pirate_bot(\"What is photosynthesis?\"))"
      ],
      "metadata": {
        "id": "6zn9KEi2JCeg",
        "colab": {
          "base_uri": "https://localhost:8080/"
        },
        "outputId": "1264eb39-e6d8-4b8a-a343-23bb6496df60"
      },
      "execution_count": 6,
      "outputs": [
        {
          "output_type": "stream",
          "name": "stdout",
          "text": [
            "⏳ Summoning the knowledge spirits... 'llama3.2' booting...\n",
            "Yer askin' about this \"photosynthesis\" business, eh? Verily, I'll tell ye! *pours grog*\n",
            "\n",
            "Photosynthesis be the magical way plants make their own grub without havin' to swallow it down from the depths o' the ocean. See, they got these tiny plants called phytoplankton and whatnot that make use o' sunlight to create their own snacks.\n",
            "\n",
            "Here be how it works: plants spread out their leaves like big, green sails, and catch the wondrous rays o' the sun. The sun's energy gets converted into a mighty force, chokin' carbon dioxide from the air and convertin' water from the soil into... ye guessed it! Glorious glucose!\n",
            "\n",
            "It be a grand bit o' biology, if I do say so meself. So, next time ye see a bloomin' plant, just remember: that's no ordinary sailor workin' on board, makin' its own provisions with nary an extra scurvy dog to thank 'em! *laughs*\n",
            "\n",
            "But watch yer step, matey! Plants can even use sunlight to make their way up the food chain. Aye, ye read me right – they can feed predators and whatnot that be tryin' to get their hooks on 'em! So, don't go thinkin' ye can just walk all over plants willy-nilly...\n",
            "\n",
            "Now if ye'll excuse me, I've got some photosynthesis-inspired booty to attend to.\n"
          ]
        }
      ]
    },
    {
      "cell_type": "markdown",
      "metadata": {
        "id": "qs6vVEtGDnuB"
      },
      "source": [
        "## Step 1: Ask AI to Help Design the Chatbot\n",
        "\n",
        "Let's start by asking Colab's AI to help us think through the design. thry the following prompt.\n",
        "\n",
        "```\n",
        "Help me design a simple financial advisor chatbot that:\n",
        "1. Takes user questions about personal finance\n",
        "2. Gives educational advice (not professional financial advice)\n",
        "3. Can analyze transaction data from a CSV file\n",
        "4. Has a personality as a \"wise financial sage\"\n",
        "\n",
        "What should the basic structure look like in Python?\n",
        "```"
      ]
    },
    {
      "cell_type": "markdown",
      "metadata": {
        "id": "Mel9Nt4ODnuC"
      },
      "source": [
        "## Step 2: Create the Basic Chatbot\n",
        "\n",
        "Based on AI suggestions, let's build the core chatbot:"
      ]
    },
    {
      "cell_type": "code",
      "metadata": {
        "id": "gToIBUbdDnuD",
        "colab": {
          "base_uri": "https://localhost:8080/"
        },
        "collapsed": true,
        "outputId": "296f6221-9218-45c8-c739-bd233f74575a"
      },
      "source": [
        "from hands_on_ai.chat import get_response\n",
        "import os\n",
        "\n",
        "def annoyed_mum(question: str):\n",
        "    \"\"\"\n",
        "    A personality bot that provides financial advice on an old school understanding.\n",
        "    \"\"\"\n",
        "    personality = \"\"\"\n",
        "    You are my mum that provides advice on my personal finance in an annoying way.\n",
        "    \"\"\"\n",
        "\n",
        "    prompt = personality + question\n",
        "    # The get_response function sends the prompt and system message to the LLM\n",
        "    return get_response(prompt=question)\n",
        "\n",
        "# Test the financial sage bot\n",
        "test_question = \"Should I invest in stocks or save my money in a bank account?\"\n",
        "advice = annoyed_mum(test_question)\n",
        "\n",
        "print(\"Annoyed Mum says:\")\n",
        "print(advice)"
      ],
      "execution_count": 14,
      "outputs": [
        {
          "output_type": "stream",
          "name": "stderr",
          "text": [
            "[WARNING] Error during request (attempt 1): Request timed out.\n",
            "WARNING:hands_on_ai:Error during request (attempt 1): Request timed out.\n"
          ]
        },
        {
          "output_type": "stream",
          "name": "stdout",
          "text": [
            "Oops! I got a little tangled up... Let's try that again 😊\n"
          ]
        },
        {
          "output_type": "stream",
          "name": "stderr",
          "text": [
            "[WARNING] Error during request (attempt 2): Request timed out.\n",
            "WARNING:hands_on_ai:Error during request (attempt 2): Request timed out.\n"
          ]
        },
        {
          "output_type": "stream",
          "name": "stdout",
          "text": [
            "Annoyed Mum says:\n",
            "❌ Error: Request timed out.\n"
          ]
        }
      ]
    },
    {
      "cell_type": "markdown",
      "metadata": {
        "id": "0uyTCSdMDnuD"
      },
      "source": [
        "## Step 3: Add Transaction Analysis\n",
        "\n",
        "Let's create some sample transaction data and ask AI to help us analyze it:"
      ]
    },
    {
      "cell_type": "code",
      "metadata": {
        "id": "WllTL6QkDnuE",
        "colab": {
          "base_uri": "https://localhost:8080/"
        },
        "collapsed": true,
        "outputId": "71685377-9ca6-47e4-e7b1-dbd188a745fc"
      },
      "source": [
        "import pandas as pd\n",
        "# Create sample transaction data\n",
        "sample_transactions = {\n",
        "    'Date': ['2024-01-01', '2024-01-02', '2024-01-03', '2024-01-05', '2024-01-07'],\n",
        "    'Description': ['Salary', 'Grocery Store', 'Coffee Shop', 'Gas Station', 'Restaurant'],\n",
        "    'Category': ['Income', 'Food', 'Food', 'Transportation', 'Food'],\n",
        "    'Amount': [3000, -85.50, -4.50, -45.00, -32.75]\n",
        "}\n",
        "\n",
        "# Create DataFrame and save as CSV\n",
        "df = pd.DataFrame(sample_transactions)\n",
        "df.to_csv('transactions.csv', index=False)\n",
        "\n",
        "print(\"Sample transactions created:\")\n",
        "print(df)"
      ],
      "execution_count": 16,
      "outputs": [
        {
          "output_type": "stream",
          "name": "stdout",
          "text": [
            "Sample transactions created:\n",
            "         Date    Description        Category   Amount\n",
            "0  2024-01-01         Salary          Income  3000.00\n",
            "1  2024-01-02  Grocery Store            Food   -85.50\n",
            "2  2024-01-03    Coffee Shop            Food    -4.50\n",
            "3  2024-01-05    Gas Station  Transportation   -45.00\n",
            "4  2024-01-07     Restaurant            Food   -32.75\n"
          ]
        }
      ]
    },
    {
      "cell_type": "markdown",
      "metadata": {
        "id": "eCNx8sYEDnuF"
      },
      "source": [
        "Now let's ask AI to help us build transaction analysis.  Try this prompt:\n",
        "\n",
        "```\n",
        "I have transaction data with columns: Date, Description, Category, Amount\n",
        "Help me write a Python function that:\n",
        "1. Loads the CSV with pandas\n",
        "2. Calculates basic financial insights (income, expenses, savings rate)\n",
        "3. Identifies spending patterns\n",
        "4. Formats this information for an AI chatbot to discuss\n",
        "\n",
        "Show me the code structure.\n",
        "```\n",
        "\n",
        "> Can you suggest improvement to the prompt?"
      ]
    },
    {
      "cell_type": "markdown",
      "metadata": {
        "id": "_THSKyy7DnuH"
      },
      "source": [
        "## Step 4: Implement Transaction Analysis\n",
        "\n",
        "Based on AI suggestions, let's add transaction analysis to our sage:"
      ]
    },
    {
      "cell_type": "code",
      "metadata": {
        "id": "osSook-QDnuH",
        "colab": {
          "base_uri": "https://localhost:8080/"
        },
        "outputId": "1c78639a-e797-409d-ec0f-5a9e767527c1"
      },
      "source": [
        "def analyse_transactions(csv_file):\n",
        "    \"\"\"Analyze user's transaction data\"\"\"\n",
        "    # Load the data\n",
        "    df = pd.read_csv(csv_file)\n",
        "\n",
        "    # Basic calculations\n",
        "    total_income = df[df['Amount'] > 0]['Amount'].sum()\n",
        "    total_expenses = abs(df[df['Amount'] < 0]['Amount'].sum())\n",
        "    net_savings = total_income - total_expenses\n",
        "    savings_rate = (net_savings / total_income * 100) if total_income > 0 else 0\n",
        "\n",
        "    # Spending by category\n",
        "    expense_by_category = df[df['Amount'] < 0].groupby('Category')['Amount'].sum().abs()\n",
        "\n",
        "    # Create summary for AI analysis\n",
        "    summary = f\"\"\"\n",
        "    Financial Summary:\n",
        "    - Total Income: ${total_income:.2f}\n",
        "    - Total Expenses: ${total_expenses:.2f}\n",
        "    - Net Savings: ${net_savings:.2f}\n",
        "    - Savings Rate: {savings_rate:.1f}%\n",
        "\n",
        "    Spending by Category:\n",
        "    {expense_by_category.to_string()}\n",
        "    \"\"\"\n",
        "\n",
        "    return summary\n",
        "\n",
        "# Test transaction analysis\n",
        "transaction_summary = analyse_transactions('transactions.csv')\n",
        "\n",
        "# Get financial advice\n",
        "advice = financial_sage(f\"Based on my spending, how can I save more money?  {transaction_summary}\")\n",
        "print(advice)"
      ],
      "execution_count": 17,
      "outputs": [
        {
          "output_type": "stream",
          "name": "stdout",
          "text": [
            "Congratulations on having a healthy savings rate!\n",
            "\n",
            "To help you save even more, let's break down your spending into categories and identify areas where you can make adjustments:\n",
            "\n",
            "**Initial Observations:**\n",
            "\n",
            "1. Your food expenses seem reasonable ($122.75), considering average American household costs.\n",
            "2. Your transportation cost is somewhat high ($45.00). With modern technology, public transport, or ride-sharing services can be more affordable options.\n",
            "\n",
            "**Possible Areas for Adjustment:**\n",
            "\n",
            "To further optimize your savings, consider reducing unnecessary expenses:\n",
            "\n",
            "1. **Food:** Review your food budget:\n",
            "\t* Are you eating out frequently?\n",
            "\t* Can you adjust meal planning to avoid last-minute takeouts or ordering food delivery?\n",
            "\t* Shop for groceries during sales periods and buy in bulk.\n",
            "2. **Transportation:**\n",
            "\t* Consider carpooling, biking, or using public transport as an option for shorter trips.\n",
            "\t* Look into fuel efficiency, insurance costs, or maintenance expenses associated with your vehicle ownership.\n",
            "\n",
            "**Additional Saving Tips:**\n",
            "\n",
            "1. **Track every expense**, including small purchases (e.g., coffee, snacks) to identify any hidden spending patterns.\n",
            "2. **Set realistic financial goals**: Aim to save 10-20% more than your current net savings rate to see progress in the long run.\n",
            "3. **Realyze subscriptions and services**; consider adjusting or canceling any unnecessary expenses.\n",
            "\n",
            "To implement these suggestions, I recommend tracking your expenses for a few weeks to identify areas where you can make adjustments and optimize your spending habits.\n",
            "\n",
            "Do you have any questions about optimizing your savings strategy?\n"
          ]
        }
      ]
    },
    {
      "cell_type": "markdown",
      "metadata": {
        "id": "W0NazlsVDnuI"
      },
      "source": [
        "## Step 5: Combine Everything - Ask Questions About Your Data\n",
        "\n",
        "Now let's ask the sage to give advice based on the transaction data:"
      ]
    },
    {
      "cell_type": "code",
      "metadata": {
        "id": "CS3JqdncDnuI",
        "colab": {
          "base_uri": "https://localhost:8080/"
        },
        "outputId": "522596d4-85a2-43d4-ebb7-3eaf0324248d"
      },
      "source": [
        "def get_advice(csv_file, question):\n",
        "    \"\"\"Get advice based on transaction data and user question\"\"\"\n",
        "\n",
        "    # Get transaction analysis\n",
        "    analysis = analyse_transactions(csv_file)\n",
        "\n",
        "    # Combine with user question\n",
        "    full_prompt = f\"\"\"\n",
        "\n",
        "    Here's the user's financial data:\n",
        "    {analysis}\n",
        "\n",
        "    User question: {question}\n",
        "\n",
        "    Based on this financial data, provide personalized educational advice.\n",
        "    \"\"\"\n",
        "\n",
        "    advice = financial_sage(full_prompt)\n",
        "    return advice\n",
        "\n",
        "\n",
        "# Test data-based advice\n",
        "data_question = \"Based on my spending, how can I save more money?\"\n",
        "data_advice = get_advice('transactions.csv', data_question)\n",
        "\n",
        "print(\"Data-Based Financial Advice:\")\n",
        "print(data_advice)"
      ],
      "execution_count": 18,
      "outputs": [
        {
          "output_type": "stream",
          "name": "stdout",
          "text": [
            "Data-Based Financial Advice:\n",
            "Based on the user's financial data, here are some personalized education and tips to help them save more money:\n",
            "\n",
            "**Observations from the Data:**\n",
            "\n",
            "1. The user has a high savings rate of 94.4%, which indicates that they're currently managing their finances well.\n",
            "2. However, with only $167.75 in total expenses (including both necessities like food and transportation), this leaves significant room for growth.\n",
            "\n",
            "**Potential Areas for Improvement:**\n",
            "\n",
            "To further increase their financial stability, the user should consider optimizing their expenses and exploring ways to save even more money. Here are some suggestions:\n",
            "\n",
            "*   **Review and optimize monthly expenses:** Encourage the user to categorize all their expenses, including small ones like subscription services or dining out, to identify areas where they can cut back.\n",
            "*   **Adjust food and transportation spending:** The user's current spending in these categories is quite low. If they're comfortable with it, they could consider allocating a bit more for discretionary spending.\n",
            "*   **Increase savings rate gradually:** While the user has an impressive 94.4% savings rate, consider discussing ways to adjust this goal and make saving even more manageable.\n",
            "\n",
            "**Additional Recommendations:**\n",
            "\n",
            "1.  Track expenses to identify trends and patterns \n",
            "2.  Build an emergency fund\n",
            "3.  Create a long-term plan for savings goals\n",
            "\n",
            "The user's financial foundation is solid, which gives them ample room to explore areas where they can expand their savings further. By implementing these strategies, they can take their finances to the next level and achieve better overall financial stability.\n",
            "\n",
            "If you need any help with anything else let me know I'm here to assist!\n"
          ]
        }
      ]
    },
    {
      "cell_type": "markdown",
      "metadata": {
        "id": "X-pl14UADnuI"
      },
      "source": [
        "## Step 6: Create Interactive Chat Function\n",
        "\n",
        "Let's make it easy to chat with our financial sage.  This function creates a simple “chat” with a friendly money expert. When you run it, you can type questions about your finances, ask it to analyse your spending, or type quit to stop. If you ask for an analysis, it reads your transaction file, shows a summary of where your money goes, and can give extra tips if you ask follow-up questions. For anything else, it just gives general financial advice—like a basic chatbot focused on money matters."
      ]
    },
    {
      "cell_type": "code",
      "metadata": {
        "id": "cJlQRyTdDnuI"
      },
      "source": [
        "def chat_with_sage():\n",
        "    \"\"\"Interactive chat with the financial sage\"\"\"\n",
        "\n",
        "    print(\"💰 Welcome to the Financial Sage! 💰\")\n",
        "    print(\"Ask me any financial question, or type 'analyse' to look at your transactions.\")\n",
        "    print(\"Type 'quit' to exit.\\n\")\n",
        "\n",
        "    while True:\n",
        "        user_input = input(\"You: \")\n",
        "\n",
        "        if user_input.lower() == 'quit':\n",
        "            print(\"Sage: May your finances prosper! Goodbye!\")\n",
        "            break\n",
        "        elif user_input.lower() == 'analyse':\n",
        "            # Analyze transaction data\n",
        "            analysis = analyse_transactions('transactions.csv')\n",
        "            print(f\"Sage: Here's your financial analysis:\\n{analysis}\")\n",
        "\n",
        "            follow_up = input(\"\\nAny questions about your spending? \")\n",
        "            if follow_up.strip():\n",
        "                advice = get_data_advice('transactions.csv', follow_up)\n",
        "                print(f\"Sage: {advice}\")\n",
        "        else:\n",
        "            # Regular financial advice\n",
        "            advice = get_advice('transactions.csv', user_input)\n",
        "            print(f\"Sage: {advice}\")\n",
        "\n",
        "        print()  # Add spacing"
      ],
      "execution_count": 20,
      "outputs": []
    },
    {
      "cell_type": "markdown",
      "source": [
        "**Lets start the chatbot**\n",
        "\n",
        "> The chat_with_sage() function starts an interactive text-based conversation with a “Financial Sage” assistant. It greets the user and then repeatedly waits for input until the user types quit, which ends the chat. If the user types analyse, it calls a helper function analyse_transactions('transactions.csv') to summarise spending data from a CSV file and displays the results. After that, it offers a follow-up question prompt; if the user enters something, it calls get_data_advice('transactions.csv', follow_up) to give personalised insights based on the transaction data. For any other message, it assumes a normal financial question and calls get_advice(user_input) to generate general advice. After each response it prints a blank line for neat spacing, effectively creating a simple loop that handles quitting, transaction analysis, and everyday finance queries."
      ],
      "metadata": {
        "id": "pyzJP4qSQR10"
      }
    },
    {
      "cell_type": "code",
      "source": [
        "chat_with_sage()"
      ],
      "metadata": {
        "id": "VOJB34uGPrrK",
        "colab": {
          "base_uri": "https://localhost:8080/",
          "height": 630
        },
        "collapsed": true,
        "outputId": "cd52628b-ac35-450b-843a-456ea953a7dd"
      },
      "execution_count": 21,
      "outputs": [
        {
          "name": "stdout",
          "output_type": "stream",
          "text": [
            "💰 Welcome to the Financial Sage! 💰\n",
            "Ask me any financial question, or type 'analyse' to look at your transactions.\n",
            "Type 'quit' to exit.\n",
            "\n",
            "You: analyse\n",
            "Sage: Here's your financial analysis:\n",
            "\n",
            "    Financial Summary:\n",
            "    - Total Income: $3000.00\n",
            "    - Total Expenses: $167.75\n",
            "    - Net Savings: $2832.25\n",
            "    - Savings Rate: 94.4%\n",
            "\n",
            "    Spending by Category:\n",
            "    Category\n",
            "Food              122.75\n",
            "Transportation     45.00\n",
            "    \n",
            "\n",
            "Any questions about your spending? At this rate, should I book a holiday (total cost 2000) by next month\n"
          ]
        },
        {
          "output_type": "error",
          "ename": "NameError",
          "evalue": "name 'get_data_advice' is not defined",
          "traceback": [
            "\u001b[0;31m---------------------------------------------------------------------------\u001b[0m",
            "\u001b[0;31mNameError\u001b[0m                                 Traceback (most recent call last)",
            "\u001b[0;32m/tmp/ipython-input-1641076152.py\u001b[0m in \u001b[0;36m<cell line: 0>\u001b[0;34m()\u001b[0m\n\u001b[0;32m----> 1\u001b[0;31m \u001b[0mchat_with_sage\u001b[0m\u001b[0;34m(\u001b[0m\u001b[0;34m)\u001b[0m\u001b[0;34m\u001b[0m\u001b[0;34m\u001b[0m\u001b[0m\n\u001b[0m",
            "\u001b[0;32m/tmp/ipython-input-2179738222.py\u001b[0m in \u001b[0;36mchat_with_sage\u001b[0;34m()\u001b[0m\n\u001b[1;32m     19\u001b[0m             \u001b[0mfollow_up\u001b[0m \u001b[0;34m=\u001b[0m \u001b[0minput\u001b[0m\u001b[0;34m(\u001b[0m\u001b[0;34m\"\\nAny questions about your spending? \"\u001b[0m\u001b[0;34m)\u001b[0m\u001b[0;34m\u001b[0m\u001b[0;34m\u001b[0m\u001b[0m\n\u001b[1;32m     20\u001b[0m             \u001b[0;32mif\u001b[0m \u001b[0mfollow_up\u001b[0m\u001b[0;34m.\u001b[0m\u001b[0mstrip\u001b[0m\u001b[0;34m(\u001b[0m\u001b[0;34m)\u001b[0m\u001b[0;34m:\u001b[0m\u001b[0;34m\u001b[0m\u001b[0;34m\u001b[0m\u001b[0m\n\u001b[0;32m---> 21\u001b[0;31m                 \u001b[0madvice\u001b[0m \u001b[0;34m=\u001b[0m \u001b[0mget_data_advice\u001b[0m\u001b[0;34m(\u001b[0m\u001b[0;34m'transactions.csv'\u001b[0m\u001b[0;34m,\u001b[0m \u001b[0mfollow_up\u001b[0m\u001b[0;34m)\u001b[0m\u001b[0;34m\u001b[0m\u001b[0;34m\u001b[0m\u001b[0m\n\u001b[0m\u001b[1;32m     22\u001b[0m                 \u001b[0mprint\u001b[0m\u001b[0;34m(\u001b[0m\u001b[0;34mf\"Sage: {advice}\"\u001b[0m\u001b[0;34m)\u001b[0m\u001b[0;34m\u001b[0m\u001b[0;34m\u001b[0m\u001b[0m\n\u001b[1;32m     23\u001b[0m         \u001b[0;32melse\u001b[0m\u001b[0;34m:\u001b[0m\u001b[0;34m\u001b[0m\u001b[0;34m\u001b[0m\u001b[0m\n",
            "\u001b[0;31mNameError\u001b[0m: name 'get_data_advice' is not defined"
          ]
        }
      ]
    },
    {
      "cell_type": "markdown",
      "metadata": {
        "id": "L-x86Y3hDnuJ"
      },
      "source": [
        "## Step 7: Test with Different Questions\n",
        "\n",
        "Let's test our sage with various financial questions:"
      ]
    },
    {
      "cell_type": "code",
      "metadata": {
        "id": "RSWyRpMHDnuJ",
        "colab": {
          "base_uri": "https://localhost:8080/"
        },
        "outputId": "f5d345f5-fbc4-4acf-eb9e-f50335c93bf8"
      },
      "source": [
        "# Test different types of questions\n",
        "test_questions = [\n",
        "    \"I'm 22 and just started working. How should I begin investing?\",\n",
        "    \"What's the difference between stocks and bonds?\",\n",
        "    \"How much should I have in an emergency fund?\",\n",
        "    \"Is it better to pay off debt or invest?\",\n",
        "    \"Based on my spending, should I be worried about anything?\"\n",
        "]\n",
        "\n",
        "print(\"Testing Financial Sage with various questions:\")\n",
        "print(\"=\" * 50)\n",
        "\n",
        "for question in test_questions:\n",
        "    print(f\"\\nQuestion: {question}\")\n",
        "\n",
        "    if \"based on my spending\" in question.lower():\n",
        "        # Use transaction data for this question\n",
        "        answer = get_advice('transactions.csv', question)\n",
        "    else:\n",
        "        # Regular advice\n",
        "        answer = financial_sage(question)\n",
        "\n",
        "    print(f\"Sage: {answer[:200]}...\")  # Show first 200 characters\n",
        "    print(\"-\" * 30)"
      ],
      "execution_count": 22,
      "outputs": [
        {
          "output_type": "stream",
          "name": "stdout",
          "text": [
            "Testing Financial Sage with various questions:\n",
            "==================================================\n",
            "\n",
            "Question: I'm 22 and just started working. How should I begin investing?\n",
            "Sage: Congratulations on taking the first step towards investing! As a beginner, it's essential to start with a solid understanding of the basics and a well-thought-out plan. Here's a step-by-step guide to ...\n",
            "------------------------------\n",
            "\n",
            "Question: What's the difference between stocks and bonds?\n",
            "Sage: Stocks (also known as equities) and bonds are two types of investment options that offer different financial benefits and risks.\n",
            "\n",
            "**Stocks (Equities):**\n",
            "\n",
            "* Represent ownership in a company.\n",
            "* Give sha...\n",
            "------------------------------\n",
            "\n",
            "Question: How much should I have in an emergency fund?\n",
            "Sage: Establishing an emergency fund is a great step in maintaining financial stability and peace of mind. The amount you should aim for varies depending on several factors, including:\n",
            "\n",
            "1. **Your income sta...\n",
            "------------------------------\n",
            "\n",
            "Question: Is it better to pay off debt or invest?\n",
            "Sage: The answer depends on several factors, including your financial situation, goals, and risk tolerance. Here's a balanced view to help you decide:\n",
            "\n",
            "**Paying Off Debt:**\n",
            "\n",
            "1. **Reducing stress:** Paying o...\n",
            "------------------------------\n",
            "\n",
            "Question: Based on my spending, should I be worried about anything?\n",
            "Sage: Based on the provided financial data, it seems like you're doing a great job of managing your finances.\n",
            "\n",
            "**Overall Assessment**\n",
            "\n",
            "Your net savings amount to $2832.25, which is a significant chunk of yo...\n",
            "------------------------------\n"
          ]
        }
      ]
    },
    {
      "cell_type": "markdown",
      "metadata": {
        "id": "J8JKbt2lDnuK"
      },
      "source": [
        "## Step 8: Ask AI for Improvements\n",
        "\n",
        "Let's ask AI how to make our chatbot better.  Try this prompt:\n",
        "\n",
        "```\n",
        "I built a simple financial advisor chatbot that:\n",
        "- Answers financial questions with educational advice\n",
        "- Analyzes CSV transaction data\n",
        "- Combines data analysis with personalized advice\n",
        "\n",
        "How could I improve this chatbot? What features would make it more useful?\n",
        "What are potential issues I should watch out for?\n",
        "```"
      ]
    },
    {
      "cell_type": "markdown",
      "metadata": {
        "id": "SR2UyxQwDnuK"
      },
      "source": [
        "## Your Turn: Extend the Chatbot\n",
        "\n",
        "Try adding one of these features with AI help:\n",
        "\n",
        "* Add budget planning capabilities\n",
        "* Include goal-setting and tracking\n",
        "* Add investment portfolio analysis\n",
        "* Create spending categorization rules\n",
        "* Add financial education tips"
      ]
    },
    {
      "cell_type": "code",
      "metadata": {
        "id": "dgcu7TeRDnuL",
        "colab": {
          "base_uri": "https://localhost:8080/"
        },
        "outputId": "59cfeece-4311-424f-e9bb-1aeb4d228ac7"
      },
      "source": [
        "# Implement your chosen extension here\n",
        "def my_chatbot_extension():\n",
        "    \"\"\"Your custom extension to the financial sage\"\"\"\n",
        "\n",
        "    # TODO: Add your feature based on AI suggestions\n",
        "    print(\"Extension coming soon...\")\n",
        "\n",
        "# Test your extension\n",
        "my_chatbot_extension()"
      ],
      "execution_count": 23,
      "outputs": [
        {
          "output_type": "stream",
          "name": "stdout",
          "text": [
            "Extension coming soon...\n"
          ]
        }
      ]
    },
    {
      "cell_type": "markdown",
      "metadata": {
        "id": "QHB0BFl5DnuL"
      },
      "source": [
        "## Key Takeaways\n",
        "\n",
        "You've built a financial advisor chatbot that:\n",
        "- Uses AI to provide educational financial advice\n",
        "- Analyzes real transaction data from CSV files\n",
        "- Combines data insights with personalized recommendations\n",
        "- Demonstrates how to use LLMs for domain-specific applications\n",
        "\n",
        "This shows how AI can be used to create helpful financial tools while maintaining appropriate disclaimers about not providing professional financial advice.\n",
        "\n",
        "## Next Steps\n",
        "\n",
        "- Upload your own transactions.csv file and test the analysis\n",
        "- Add more sophisticated financial calculations\n",
        "- Integrate with the API and scraping tutorials\n",
        "- Build a Gradio interface for better user experience\n",
        "- Explore more advanced financial analysis features\n",
        "\n",
        "Remember: This is educational content and not professional financial advice!"
      ]
    }
  ],
  "metadata": {
    "kernelspec": {
      "name": "python3",
      "language": "python",
      "display_name": "Python 3 (ipykernel)"
    },
    "colab": {
      "provenance": [],
      "include_colab_link": true
    }
  },
  "nbformat": 4,
  "nbformat_minor": 0
}